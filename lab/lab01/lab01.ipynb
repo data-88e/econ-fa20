{
 "cells": [
  {
   "cell_type": "code",
   "execution_count": null,
   "metadata": {
    "deletable": false,
    "editable": false
   },
   "outputs": [],
   "source": [
    "# Initialize Otter\n",
    "import otter\n",
    "grader = otter.Notebook()"
   ]
  },
  {
   "cell_type": "markdown",
   "metadata": {},
   "source": [
    "<table style=\"width: 100%;\" id=\"nb-header\">\n",
    "    <tr style=\"background-color: transparent;\"><td>\n",
    "        <img src=\"https://d8a-88.github.io/assets/images/blue_text.png\" width=\"250px\" style=\"margin-left: 0;\" />\n",
    "    </td><td>\n",
    "        <p style=\"text-align: right; font-size: 10pt;\"><strong>Economic Models</strong>, Fall 2020<br>\n",
    "            Dr. Eric Van Dusen <br>\n",
    "        Amal Bhatnagar <br>\n",
    "</table>"
   ]
  },
  {
   "cell_type": "markdown",
   "metadata": {
    "cell_id": "2280a94f-377b-4a11-9335-678fc40155d8"
   },
   "source": [
    "# Lab 1: Demand"
   ]
  },
  {
   "cell_type": "code",
   "execution_count": 54,
   "metadata": {
    "cell_id": "32b0b005-79d4-4901-b5fb-ac08385de3f6"
   },
   "outputs": [],
   "source": [
    "import numpy as np\n",
    "from datascience import *\n",
    "import sympy\n",
    "\n",
    "import matplotlib as mpl\n",
    "import matplotlib.pyplot as plt\n",
    "import matplotlib.patches as patches\n",
    "plt.style.use('seaborn-muted')\n",
    "%matplotlib inline\n",
    "mpl.rcParams['figure.dpi'] = 100\n",
    "\n",
    "import warnings\n",
    "warnings.filterwarnings('ignore')\n",
    "from ipywidgets import interact\n",
    "\n",
    "solve = lambda x,y: sympy.solve(x-y)[0] if len(sympy.solve(x-y))==1 else \"Not Single Solution\"\n",
    "\n",
    "def plot_equation(equation, price_start, price_end, label=None):\n",
    "    plot_prices = [price_start, price_end]\n",
    "    plot_quantities = [equation.subs(list(equation.free_symbols)[0], c) for c in plot_prices]\n",
    "    plt.plot(plot_prices, plot_quantities, label=label)\n",
    "    \n",
    "def plot_intercept(eq1, eq2):\n",
    "    ex = sympy.solve(eq1-eq2)[0]\n",
    "    why = eq1.subs(list(eq1.free_symbols)[0], ex)\n",
    "    plt.scatter([ex], [why])\n",
    "    return (ex, why)"
   ]
  },
  {
   "cell_type": "markdown",
   "metadata": {
    "cell_id": "c76dfdca-d174-492a-be15-229bd5decb11"
   },
   "source": [
    "## Background\n",
    "\n",
    "The demand curve shows the graphical relationship between the price of a good or service and the quantity demanded for it over a given period of time. \n",
    "In other words, it shows the quantity of goods or services consumers are willing to buy at each market price. \n",
    "The quantity of goods or services demanded or supplied can be modeled as a function of price, as in: \n",
    "\n",
    "$$\\text{Quantity} = f(\\text{Price})$$\n",
    "\n",
    "Notably, the curve is downwards sloping because of the law of demand, which states that *as the price of a good or service increases, the quantity demanded for it decreases, assuming all other factors are held constant*. \n",
    "\n",
    "This should make intuitive sense: as prices increase, fewer people are willing to pay the higher price for the same good. On the other hand, as prices decrease, more people are willing to pay the lower price for the same good. Hence, the quantity demanded of a good or service has an inverse relationship with the price. \n",
    "\n",
    "In this course, we will assume that the relationship is somewhat linear and can be described as \n",
    "\n",
    "$$\\text{Quantity}_{d}=a \\cdot \\text{Price}_{d} + b$$\n",
    "\n",
    "We can interpret the equation above as follows: *as the price of a unit increases by 1, there is an $a$ unit increase (or decrease, if $a$ is negative) in the quantity demanded.* \n",
    "\n",
    "For example, $\\text{Quantity}_{d}=-2 \\cdot \\text{Price}_{d} + 3$ would suggest that a price increase by 1 would decrease overall quantity demanded in the market by 2.  \n",
    "\n",
    "Oppositely, price can also be measured as function of quantity to denote demand. In this case, we use an inverse demand function, as it is the inverse function of the demand function above. \n",
    "\n",
    "Since price is a function of quantity, \n",
    "\n",
    "$$\\text{Price} = f(\\text{Quantity})$$\n",
    "\n",
    "As we are solving for the inverse of the previous demand function, the inverse demand function for the example above is \n",
    "\n",
    "$$\\text{Price}_{d}=-\\frac{1}{2} \\cdot \\text{Quantity}_{d} - \\dfrac{3}{2}$$"
   ]
  },
  {
   "cell_type": "markdown",
   "metadata": {
    "cell_id": "1f27b4ab-c651-42f6-a096-42887f3b7717"
   },
   "source": [
    "## Shifts in the Demand Curve\n",
    "\n",
    "The demand curve can shift in or out based on exogenous events that occur outside of the market. \n",
    "Some factors other than a change in price of the good/service could be changes in:\n",
    "\n",
    "*  buyer's income\n",
    "*  consumer preferences\n",
    "*  expectation of future price/supply/demand\n",
    "*  changes in the price of related goods\n",
    "\n",
    "If any of these changes occur and causes the demand for the selected good/service to decrease, then the curve shifts to the left as less of the good or service will be demanded at every price.Similarly, if any of these changes causes the demand for the selected good/service to increase, the curve would shift to the right. This signifies that more of the good or service will be demanded at every price.\n",
    "\n",
    "For example, consumers' incomes decreased during the 2008 recession, thus decreasing overall buying power and shifting the demand curve leftwards; a left shift in the demand curve suggests that consumers would purchase fewer quantities of goods at every price."
   ]
  },
  {
   "cell_type": "markdown",
   "metadata": {},
   "source": [
    "## Income and Substitution Effect\n",
    "\n",
    "Changes in the price of a good also leads to 2 possible effects:\n",
    "\n",
    "- **Income Effect**: Examines how the change in price of the good affects income, which then affects the quantity demanded of a good or service.\n",
    "- **Substitution Effect**: Examines how the change in price of the good affects its demand relative to other goods and services\n",
    "\n",
    "If the price of a good increases, it would require the consumer to spend more of their income on the good. This dissuades consumers from purchasing the good, decreases the quantity demanded. If the price of a good decreases, consumers would spend less money to receive the same good. This increases the quantity demanded for the good, because more consumers would want to purchase the good, given the decrease in the amount of purchasing power required to obtain the good.\n",
    "\n",
    "If the price of a good increases, then consumers might look at similar goods that function in the same way or yield an equivalent amount of utility as the original good. Consumers are effectively shifting or substituting away from the relatively more expensive good to a cheaper alternative, thereby decreasing the quantity demanded for the good. The converse is also true: if the price of a good decreases, then consumers that currently purchase other similar goods might start consuming this good instead, because it would cost less money for them to obtain.\n",
    "\n",
    "For example, if the price of gas increases, the higher price for gas might encourage consumers to look at purchasing more efficient cars, such as electric or hybrid cars. This is the subsitution effect. If the consumer stays with their original car, then they would have less disposable income after purchasing the now-more-expensive gas, so they might purchase less gas. This is the income effect.  "
   ]
  },
  {
   "cell_type": "markdown",
   "metadata": {
    "cell_id": "6495ee60-d3fd-48d1-a6d6-246f2f517d1d"
   },
   "source": [
    "## Demand Curve for Beef"
   ]
  },
  {
   "cell_type": "markdown",
   "metadata": {
    "cell_id": "2446e913-7e07-4fd1-b08e-8a2374b3fb70"
   },
   "source": [
    "In today's lab, we will explore the demand curve for beef across time. The data is originally from the US Department of Agriculture and examines how the price varies between 1977 and 1999. \n",
    "\n",
    "Note that throughout this exercise, we will ignore the effects of inflation. "
   ]
  },
  {
   "cell_type": "code",
   "execution_count": 55,
   "metadata": {
    "cell_id": "8ea8f5a2-510f-4102-a833-42216181f2f9"
   },
   "outputs": [],
   "source": [
    "beef = Table.read_table('beef.csv')\n",
    "beef"
   ]
  },
  {
   "cell_type": "markdown",
   "metadata": {
    "cell_id": "37de3b6e-aced-4283-b6de-c9e560b4a9da"
   },
   "source": [
    "To construct the demand curve, let's first see what the relationship between price and quantity is. We would expect to see a downward-sloping line between price and quantity; if a product's price increases, consumers will purchase less, and if a product's price decreases, then consumers will purchase more."
   ]
  },
  {
   "cell_type": "markdown",
   "metadata": {
    "deletable": false,
    "editable": false
   },
   "source": [
    "<!-- BEGIN QUESTION -->\n",
    "\n",
    "**Question 1:** \n",
    "Create a scatterplot with a best-fit line (using `fit_line = True`) across the points. Trend-lines are helpful because they consolidate all the datapoints into a single line, helping us better understand the relationship between the two variables. \n",
    "\n",
    "<!--\n",
    "BEGIN QUESTION\n",
    "name: q1\n",
    "manual: true\n",
    "-->"
   ]
  },
  {
   "cell_type": "code",
   "execution_count": 56,
   "metadata": {
    "cell_id": "fb5b4ec2-d7fe-4fb5-b626-9ed71c6339f8"
   },
   "outputs": [],
   "source": [
    "...\n",
    "plt.title(\"Demand Curve for Beef\");"
   ]
  },
  {
   "cell_type": "markdown",
   "metadata": {
    "deletable": false,
    "editable": false
   },
   "source": [
    "<!-- END QUESTION -->\n",
    "\n",
    "**Question 2:** \n",
    "We will now quantify our demand curve using [`np.polyfit(...)`](https://numpy.org/doc/stable/reference/generated/numpy.polyfit.html) which returns the coefficients of a fitted $d$-degree polynomial. \n",
    "\n",
    "`np.polyfit` takes 3 parameters\n",
    "- array of x-coordinates\n",
    "- array of y-coordinates\n",
    "- degree of polynomial \n",
    "\n",
    "Because we are looking for a **linear** function to serve as the demand curve, we will use 1 for the degree of polynomial. It will therefore return an array of size 2, where the first element is the slope and the second is the $y$-intercept.\n",
    "\n",
    "\n",
    "The general template for the demand curve is $y = mx + b$, where $m$ is the slope and $b$ is $y$-intercept. \n",
    "In economic terms, $m$ is the demand curve's slope that shows how the good's price affects the quantity demanded, and $b$ encompasses the effects of all of the exogenous non-price factors that affect demand. \n",
    "\n",
    "<!--\n",
    "BEGIN QUESTION\n",
    "name: q2\n",
    "-->"
   ]
  },
  {
   "cell_type": "code",
   "execution_count": 57,
   "metadata": {
    "cell_id": "c7130fd4-a3d0-4f4e-8e40-82e28c5d8b3b"
   },
   "outputs": [],
   "source": [
    "demand_curve_properties = np.polyfit(..., ..., ...)\n",
    "demand_curve_properties"
   ]
  },
  {
   "cell_type": "code",
   "execution_count": null,
   "metadata": {
    "deletable": false,
    "editable": false
   },
   "outputs": [],
   "source": [
    "grader.check(\"q2\")"
   ]
  },
  {
   "cell_type": "markdown",
   "metadata": {
    "cell_id": "80c534f4-8f08-4c2b-82cb-0ae3e847474d"
   },
   "source": [
    "Your answer should show that the $m$ variable (slope) is -19.37 and b variable (y-intercept) is 607. Using the $y = mx + b$ template above, then our demand curve would be $y = -19.37x + 607$"
   ]
  },
  {
   "cell_type": "markdown",
   "metadata": {},
   "source": [
    "**Question 3:** \n",
    "Python has many tools, such as the [SymPy library](https://docs.sympy.org/latest/tutorial/index.html) that we can use for expressing and evaluating formulas and functions in economics. \n",
    "Since SymPy helps with symbolic math, we start out by create a symbol using `Symbol`, which we assign to a variable name. Then, we can use the symbols for constructing symbolic expressions."
   ]
  },
  {
   "cell_type": "code",
   "execution_count": 61,
   "metadata": {
    "cell_id": "c28a740c-2019-4ae8-9c72-1c6e486c4033"
   },
   "outputs": [],
   "source": [
    "x = sympy.Symbol('x')\n",
    "x"
   ]
  },
  {
   "cell_type": "markdown",
   "metadata": {
    "cell_id": "75ea93cf-e533-40fc-85b5-bf67d01bac36",
    "deletable": false,
    "editable": false
   },
   "source": [
    "Now let's try using SymPy to create symbolic expressions for the supply and demand curves.\n",
    "\n",
    "Supply curves show how much of a good suppliers are willing and able to supply at different prices. In this case, as the price of the beef increases, the quantity of beef that beef manufacturers are willing to supply increases. They capture the producer's side of market decisions and are upward-sloping. We will further explore this topic next week.\n",
    "\n",
    "Let's start out with an upward sloping supply curve, where $Q_S$ is quantity supplied and $P_S$ is the price at that supplied quantity. Create symbols for the variables $P_S$ and $Q_S$ and assign them to `P_S` and `Q_S`, respectively.\n",
    "\n",
    "_Hint:_ To make a subscript in SymPy, use LaTeX syntax; for example, $a_b$ would be created with `sympy.Symbol(\"a_b\")`.\n",
    "\n",
    "<!--\n",
    "BEGIN QUESTION\n",
    "name: q3\n",
    "-->"
   ]
  },
  {
   "cell_type": "code",
   "execution_count": 62,
   "metadata": {
    "cell_id": "00f6039f-7d93-4109-8d91-617b742a46ec"
   },
   "outputs": [],
   "source": [
    "P_S = ...\n",
    "Q_S = ..."
   ]
  },
  {
   "cell_type": "code",
   "execution_count": null,
   "metadata": {
    "deletable": false,
    "editable": false
   },
   "outputs": [],
   "source": [
    "grader.check(\"q3\")"
   ]
  },
  {
   "cell_type": "markdown",
   "metadata": {
    "cell_id": "b399466d-c1bc-4b0b-b8ea-6a9efeb738f5",
    "deletable": false,
    "editable": false
   },
   "source": [
    "**Question 4:**\n",
    "Create a new symbol $Q$ for the demand quantity and assign it to `Q`. Then construct the demand curve from the `np.polyfit` results in question 2 using SymPy and `Q`. Make sure to use the values directly from `demand_curve_properties` so that you don't round or else the autograder may fail.\n",
    "\n",
    "Recall that we can create a function of a symbol `x` by using normal math operations: \n",
    "\n",
    "```python\n",
    "x = sympy.Symbol(\"x\")\n",
    "y = 2 * x + 1\n",
    "```\n",
    "\n",
    "<!--\n",
    "BEGIN QUESTION\n",
    "name: q4\n",
    "-->"
   ]
  },
  {
   "cell_type": "code",
   "execution_count": 67,
   "metadata": {
    "cell_id": "012b3ab2-cae5-4bfd-b6f0-ee1c79609b18"
   },
   "outputs": [],
   "source": [
    "Q = ...\n",
    "demand = demand_curve_properties.item(...) * ... + demand_curve_properties.item(...)\n",
    "demand"
   ]
  },
  {
   "cell_type": "code",
   "execution_count": null,
   "metadata": {
    "deletable": false,
    "editable": false
   },
   "outputs": [],
   "source": [
    "grader.check(\"q4\")"
   ]
  },
  {
   "cell_type": "markdown",
   "metadata": {
    "cell_id": "ac678d86-8ad3-4fe1-a02f-0aec02474f12",
    "deletable": false,
    "editable": false
   },
   "source": [
    "**Question 5:** \n",
    "As we will learn, the supply curve is the relationship between the price of a good or service and the quantity of that good or service that the seller is willing to supply. Let's assume the supply curve for beef is  $y=10.64x$. This supply curve is not based on any data. Use SymPy to create an expression for supply and assign this to the variable `supply`.\n",
    "<!--\n",
    "BEGIN QUESTION\n",
    "name: q5\n",
    "-->"
   ]
  },
  {
   "cell_type": "code",
   "execution_count": 72,
   "metadata": {
    "cell_id": "1db51d1f-0723-4dc6-86b9-1451960b82bb"
   },
   "outputs": [],
   "source": [
    "supply = ...\n",
    "supply"
   ]
  },
  {
   "cell_type": "code",
   "execution_count": null,
   "metadata": {
    "deletable": false,
    "editable": false
   },
   "outputs": [],
   "source": [
    "grader.check(\"q5\")"
   ]
  },
  {
   "cell_type": "markdown",
   "metadata": {
    "deletable": false,
    "editable": false
   },
   "source": [
    "<!-- BEGIN QUESTION -->\n",
    "\n",
    "**Question 6:**\n",
    "Interpret the supply curve. What do its slope and intercept mean? How does supply change with the quantity of beef produced?\n",
    "\n",
    "<!--\n",
    "BEGIN QUESTION\n",
    "name: q6\n",
    "manual: true\n",
    "-->"
   ]
  },
  {
   "cell_type": "markdown",
   "metadata": {},
   "source": [
    "_Type your answer here, replacing this text._"
   ]
  },
  {
   "cell_type": "markdown",
   "metadata": {
    "cell_id": "67e4049e-bb65-41ab-bd77-66bcf6b42c4c",
    "deletable": false,
    "editable": false
   },
   "source": [
    "<!-- END QUESTION -->\n",
    "\n",
    "**Question 7:**\n",
    "The quantity equilibrium is the quantity at which the supply curve and demand curve intersect. At this point for some price, the good that consumers desire to purchase is equivalent to the quantity of the good that producers supply. \n",
    "\n",
    "In this case, the quantity equilibrium would be both the quantity of beef that consumers want to purchase and beef manufacturers want to provide. Find the quantity equilibrium $Q^*$ using the supply and demand curves for each market. Assign this value to `Q_star`.\n",
    "\n",
    "_Hint:_ Our `solve` function may be helpful here...\n",
    "\n",
    "<!--\n",
    "BEGIN QUESTION\n",
    "name: q7\n",
    "-->"
   ]
  },
  {
   "cell_type": "code",
   "execution_count": 75,
   "metadata": {
    "cell_id": "ce118f1c-caf8-4280-aa5e-2bf5199f1b13"
   },
   "outputs": [],
   "source": [
    "Q_star = ...\n",
    "Q_star"
   ]
  },
  {
   "cell_type": "code",
   "execution_count": null,
   "metadata": {
    "deletable": false,
    "editable": false
   },
   "outputs": [],
   "source": [
    "grader.check(\"q7\")"
   ]
  },
  {
   "cell_type": "markdown",
   "metadata": {
    "cell_id": "e1e05894-5d03-4eb3-b4ac-706abf057ad8",
    "deletable": false,
    "editable": false
   },
   "source": [
    "**Question 8:** \n",
    "The price equilibrium is the price at which the supply curve and demand curve intersect. The price of the good that consumers desire to purchase at is equivalent to the price of the good that producers want to sell at. \n",
    "\n",
    "In this case, price equilibrium would be both the price of beef that consumers want to purchase at and the price of beef that the manufacturers want to sell at. Find the price equilibrium $P^*$ using the supply and demand curves for each market. Assign this value to `P_star`.\n",
    "\n",
    "<!--\n",
    "BEGIN QUESTION\n",
    "name: q8\n",
    "-->"
   ]
  },
  {
   "cell_type": "code",
   "execution_count": 25,
   "metadata": {
    "cell_id": "ae729dd4-080b-4e37-a511-8e82e3ad9fd1"
   },
   "outputs": [],
   "source": [
    "P_star = ...\n",
    "P_star"
   ]
  },
  {
   "cell_type": "code",
   "execution_count": null,
   "metadata": {
    "deletable": false,
    "editable": false
   },
   "outputs": [],
   "source": [
    "grader.check(\"q8\")"
   ]
  },
  {
   "cell_type": "markdown",
   "metadata": {
    "deletable": false,
    "editable": false
   },
   "source": [
    "<!-- BEGIN QUESTION -->\n",
    "\n",
    "**Question 9:** \n",
    "Visualize the market equilibrium on a graph.There are 2 pre-made functions we will use: `plot_equation` and `plot_intercept`.\n",
    "\n",
    "- `plot_equation` takes in the equation we made previously (either demand or supply) and visualizes the equations between the different prices we give it\n",
    "- `plot_intercept` takes in two different equations (demand and supply), finds the point at which the two intersect, and creates a scatter plot of the result\n",
    "\n",
    "Use 0 and 40 for the lower and upper bounds on the price in `plot_equation`.\n",
    "\n",
    "_Hint:_ You will need to use `plot_equation` twice and `plot_intercept` once.\n",
    "\n",
    "<!--\n",
    "BEGIN QUESTION\n",
    "name: q9\n",
    "manual: true\n",
    "-->"
   ]
  },
  {
   "cell_type": "code",
   "execution_count": 28,
   "metadata": {
    "cell_id": "63f18165-511b-4563-831b-edae9402dd2d"
   },
   "outputs": [],
   "source": [
    "...\n",
    "\n",
    "## Do not edit the code below. ##\n",
    "plt.ylim(0,400)\n",
    "plt.title(\"Beef Supply and Demand\")\n",
    "plt.xlabel(\"Quantity\")\n",
    "plt.ylabel(\"Price\")\n",
    "plt.legend()\n",
    "plt.show()"
   ]
  },
  {
   "cell_type": "markdown",
   "metadata": {},
   "source": [
    "_Type your answer here, replacing this text._"
   ]
  },
  {
   "cell_type": "markdown",
   "metadata": {
    "cell_id": "e5ed0498-77c6-4566-b55c-584804a2407a",
    "deletable": false,
    "editable": false
   },
   "source": [
    "<!-- END QUESTION -->\n",
    "\n",
    "<!-- BEGIN QUESTION -->\n",
    "\n",
    "**Question 10:** \n",
    "Assume that economic output (GDP) increased by 4% last quarter and, as a result, all consumers in the beef market are now earning \\\\$90 more than last quarter. How will this impact the demand curve? Describe how this will change market equilibrium.\n",
    "\n",
    "<!--\n",
    "BEGIN QUESTION\n",
    "name: q10\n",
    "manual: true\n",
    "-->"
   ]
  },
  {
   "cell_type": "markdown",
   "metadata": {},
   "source": [
    "_Type your answer here, replacing this text._"
   ]
  },
  {
   "cell_type": "markdown",
   "metadata": {
    "deletable": false,
    "editable": false
   },
   "source": [
    "<!-- END QUESTION -->\n",
    "\n",
    "<!-- BEGIN QUESTION -->\n",
    "\n",
    "**Question 11:** Using Sympy, `plot_equation`, and `plot_intercept`, plot the supply, original demand, and new demand curves that arise from the situation in Question 10.\n",
    "\n",
    "<!--\n",
    "BEGIN QUESTION\n",
    "name: q11\n",
    "manual: true\n",
    "-->"
   ]
  },
  {
   "cell_type": "code",
   "execution_count": 29,
   "metadata": {
    "cell_id": "8a2f7dfe-13c9-444a-9142-a569611844e4"
   },
   "outputs": [],
   "source": [
    "new_demand = ...\n",
    "\n",
    "...\n",
    "\n",
    "## Do not edit the code below. ##\n",
    "plt.ylim(0,400)\n",
    "plt.title(\"Shift in Beef Demand\")\n",
    "plt.xlabel(\"Quantity\")\n",
    "plt.ylabel(\"Price\")\n",
    "plt.legend(loc = \"upper right\")\n",
    "plt.show()"
   ]
  },
  {
   "cell_type": "markdown",
   "metadata": {
    "cell_id": "53aa61c1-6e8c-46e3-96c1-c3ff4199c1c8"
   },
   "source": [
    "<!-- END QUESTION -->\n",
    "\n",
    "\n",
    "\n",
    "**Congratulations! You finished Lab 1!**"
   ]
  },
  {
   "cell_type": "markdown",
   "metadata": {},
   "source": [
    "---\n",
    "\n",
    "## Feedback\n",
    "\n",
    "The last question of this assignment will ask you to complete a short feedback survey, for which you will receive a free point! Please run the cell below to display the form. After you submit, you will receive a codeword from the confirmation page which you can enter below."
   ]
  },
  {
   "cell_type": "code",
   "execution_count": 4,
   "metadata": {},
   "outputs": [],
   "source": [
    "from IPython.display import display, IFrame\n",
    "display(IFrame(\"https://docs.google.com/forms/d/e/1FAIpQLSe0W7pXSSvmy6T2ap74uXzeNN4nCCy_s8NkLofU\"\n",
    "               \"mI2mhQlnvQ/viewform?embedded=true\", 800, 600))"
   ]
  },
  {
   "cell_type": "markdown",
   "metadata": {
    "deletable": false,
    "editable": false
   },
   "source": [
    "Enter your codeword below, assigning at as a string to `feedback_codeword`.\n",
    "\n",
    "<!--\n",
    "BEGIN QUESTION\n",
    "name: feedback\n",
    "-->"
   ]
  },
  {
   "cell_type": "code",
   "execution_count": 5,
   "metadata": {},
   "outputs": [],
   "source": [
    "feedback_codeword = \"...\"\n",
    "feedback_codeword"
   ]
  },
  {
   "cell_type": "code",
   "execution_count": null,
   "metadata": {
    "deletable": false,
    "editable": false
   },
   "outputs": [],
   "source": [
    "grader.check(\"feedback\")"
   ]
  },
  {
   "cell_type": "markdown",
   "metadata": {
    "deletable": false,
    "editable": false
   },
   "source": [
    "---\n",
    "\n",
    "To double-check your work, the cell below will rerun all of the autograder tests."
   ]
  },
  {
   "cell_type": "code",
   "execution_count": null,
   "metadata": {
    "deletable": false,
    "editable": false
   },
   "outputs": [],
   "source": [
    "grader.check_all()"
   ]
  },
  {
   "cell_type": "markdown",
   "metadata": {
    "deletable": false,
    "editable": false
   },
   "source": [
    "## Submission\n",
    "\n",
    "Make sure you have run all cells in your notebook in order before running the cell below, so that all images/graphs appear in the output. The cell below will generate a zip file for you to submit. **Please save before exporting!**"
   ]
  },
  {
   "cell_type": "code",
   "execution_count": null,
   "metadata": {
    "deletable": false,
    "editable": false
   },
   "outputs": [],
   "source": [
    "# Save your notebook first, then run this cell to export your submission.\n",
    "grader.export(\"lab01.ipynb\", pdf=False)"
   ]
  },
  {
   "cell_type": "markdown",
   "metadata": {},
   "source": [
    " "
   ]
  }
 ],
 "metadata": {
  "@webio": {
   "lastCommId": null,
   "lastKernelId": null
  },
  "deepnote_execution_queue": [],
  "deepnote_notebook_id": "81b8fb1f-c068-4405-a28c-00a84f764aa9",
  "kernelspec": {
   "display_name": "Python 3",
   "language": "python",
   "name": "python3"
  },
  "language_info": {
   "codemirror_mode": {
    "name": "ipython",
    "version": 3
   },
   "file_extension": ".py",
   "mimetype": "text/x-python",
   "name": "python",
   "nbconvert_exporter": "python",
   "pygments_lexer": "ipython3",
   "version": "3.7.3"
  }
 },
 "nbformat": 4,
 "nbformat_minor": 2
}
