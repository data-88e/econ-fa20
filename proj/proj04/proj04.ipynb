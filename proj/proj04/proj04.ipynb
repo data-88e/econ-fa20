{
 "cells": [
  {
   "cell_type": "code",
   "execution_count": null,
   "metadata": {
    "deletable": false,
    "editable": false
   },
   "outputs": [],
   "source": [
    "# Initialize Otter\n",
    "import otter\n",
    "grader = otter.Notebook()"
   ]
  },
  {
   "cell_type": "markdown",
   "metadata": {},
   "source": [
    "<table style=\"width: 100%;\" id=\"nb-header>\">\n",
    "        <tr style=\"background-color: transparent;\"><td>\n",
    "            <img src=\"https://d8a-88.github.io/assets/images/blue_text.png\" width=\"250px\" style=\"margin-left: 0;\" />\n",
    "        </td><td>\n",
    "            <p style=\"text-align: right; font-size: 10pt;\"><strong>Economic Models</strong>, Spring 2020<br>\n",
    "                Dr. Eric Van Dusen<br>\n",
    "            Notebook by Andrei Caprau<br>\n",
    "            Based on \"Does the Stock Market Overreact?\" by De Bondt and Thaler, 1985</p></td></tr>\n",
    "    </table>"
   ]
  },
  {
   "cell_type": "markdown",
   "metadata": {},
   "source": [
    "# Project 4: Does the Stock Market Overreact?\n",
    "\n",
    "Welcome to Project 4! In this project we'll attempt to repeat the procedure De Bondt and Thaler use to show that people tend to \"overreact\" to sudden and dramatic news events, and that these overreactions are evident in stock prices. We'll may deviate from their procedure in certain spots, and we'll examine how this affects the conclusions we come to. Throughout this project not only will you be developing your data science skills and performing economics research similar to De Bondt and Thaler's, but you will also be prompted to think about the idea of reproducibility in economics and data science. Have fun!"
   ]
  },
  {
   "cell_type": "code",
   "execution_count": 1,
   "metadata": {},
   "outputs": [],
   "source": [
    "import datetime as dt\n",
    "import numpy as np\n",
    "import pandas as pd\n",
    "from datascience import *"
   ]
  },
  {
   "cell_type": "markdown",
   "metadata": {},
   "source": [
    "## Part 1: Reading in the Data\n",
    "\n",
    "First we will need to read in the relevant data, which has been obtained beforehand from Global Financial Data (GFD). Provided to you is data on every stock tracked by GFD that is or has ever been traded on the New York Stock Exchange. Specifically, we have **closing** data, which is simply the last price the stock traded at on a particular day. The granularity of this data is monthly, meaning for each stock we have the closing price on the **last trading day of each month**. Additionally, we may also have the closing price on the **first** trading day of each month, although for some older stocks this beginning-of-the-month data is unavailable, so we will be using the end-of-month data."
   ]
  },
  {
   "cell_type": "markdown",
   "metadata": {},
   "source": [
    "Already our methodology possibly differs from that of De Bondt and Thaler. There are two main chances for differences so far. First, De Bondt and Thaler used data from CRSP, whereas we used GFD data. If the two sources have differing data, naturally our results may differ. Additionally, we will use end-of-month closing price for monthly stock data, whereas De Bondt and Thaler may have measured monthly stock prices in a different way. If there is some trend that stock prices follow on specific days of the month, our results might reflect this trend. For example, it might be the case that more people than usual trade stocks on the last day of the month, in which case our end-of-month data might not be representative of how the stock did that month overall."
   ]
  },
  {
   "cell_type": "markdown",
   "metadata": {
    "deletable": false,
    "editable": false
   },
   "source": [
    "<!-- BEGIN QUESTION -->\n",
    "\n",
    "**Question 1.1:** Suppose that we are concerned our results might be biased due to some phenomenon that occurs at the end of the month. What could we do to alleviate this concern (in other words, how could we test to see if our results seem genuine or if they are a affected by our choice of day)?\n",
    "\n",
    "<!--\n",
    "BEGIN QUESTION\n",
    "name: q1_1\n",
    "manual: true\n",
    "-->"
   ]
  },
  {
   "cell_type": "markdown",
   "metadata": {},
   "source": [
    "_Type your answer here, replacing this text._"
   ]
  },
  {
   "cell_type": "markdown",
   "metadata": {},
   "source": [
    "<!-- END QUESTION -->\n",
    "\n",
    "\n",
    "\n",
    "Now let's read in the data. Below we load in an array called `nyse_stocks` which has the tickers (nicknames) of all the stocks in our data. We will use this to help us read in the data."
   ]
  },
  {
   "cell_type": "code",
   "execution_count": 2,
   "metadata": {},
   "outputs": [],
   "source": [
    "# Do not edit this cell\n",
    "nyse_stocks = np.load(\"nyse_stocks.npy\", allow_pickle=True)\n",
    "print(\"First 5 stocks in the array: \", nyse_stocks[:5])\n",
    "print(\"Number of stocks in the array: \", len(nyse_stocks))"
   ]
  },
  {
   "cell_type": "markdown",
   "metadata": {},
   "source": [
    "In a folder called `data`, we have one `.csv` file for each stock. We will load in each file into a table and store each table in a **dictionary**. If you have not encountered dictionaries before, they are exactly what they sound like. A paper dictionary has a mapping between words and definitions. If you know a word, you can look it up and see its definition. A Python dictionary is almost exactly the same; it has *keys* and *values*. A key is like the word and a value is like the definition it maps to. A dictionary has the following syntax:\n",
    "\n",
    "```python\n",
    ">>> # Set key to value in the dictionary\n",
    ">>> dictionary[key] = value\n",
    ">>>\n",
    ">>> # Retrieve the value corresponding to key\n",
    ">>> dictionary[key]\n",
    "value\n",
    "```"
   ]
  },
  {
   "cell_type": "code",
   "execution_count": 3,
   "metadata": {},
   "outputs": [],
   "source": [
    "# Do not edit this cell\n",
    "# This cell may take a minute or so to complete\n",
    "\n",
    "# Here we create a new, empty dictionary called nyse\n",
    "nyse = {}\n",
    "\n",
    "for stock in nyse_stocks:\n",
    "    # Here we read in a table and assign it to the stock name in nyse\n",
    "    current_stock = Table.read_table(\"data/{}.csv\".format(stock))\n",
    "    if current_stock.num_rows < 5:\n",
    "        continue\n",
    "    if 0 in current_stock.column(\"close\"):\n",
    "        continue\n",
    "    current_stock = current_stock.with_column(\n",
    "        \"date\", \n",
    "        current_stock.apply(lambda row: dt.date.fromisoformat(row), \"date\")\n",
    "    )\n",
    "    \n",
    "    nyse[stock] = current_stock\n",
    "print(\"Number of keys in nyse: \", len(nyse.keys()))"
   ]
  },
  {
   "cell_type": "markdown",
   "metadata": {},
   "source": [
    "Let's take a look at the data for IBM."
   ]
  },
  {
   "cell_type": "code",
   "execution_count": 4,
   "metadata": {},
   "outputs": [],
   "source": [
    "nyse[\"IBM\"]"
   ]
  },
  {
   "cell_type": "markdown",
   "metadata": {},
   "source": [
    "First notice in the column called `close` how little the price was for one share of IBM over 100 years ago! It actually wasn't so cheap at the time, the data we have has been automatically adjusted for events called *stock splits*. You don't need to know this to successfully complete the project, and if it doesn't make sense feel free to move on to the next paragraph, but sometimes companies split their stock such that each share becomes multiple shares. Doing so naturally divides the price of each share by whatever the split ratio was, since the overall value of the company hasn't changed, the only thing that changed is what proportion of a company a single share is worth. We don't want to use these arbitrary prices, because we really want to measure the change in the value of a company. So we adjust the prices to reflect any splits that have happened.\n",
    "\n",
    "Additionally, note the date format in the column called `date`. Actually, this isn't just a string that looks like a date, it is a special Python object from a package called `datetime`, imported as `dt`. If you aren't familiar with what an object is, don't worry! All you need to know are the following things:\n",
    "\n",
    "* `datetime` objects can be compared! For example, you and I know that 2020/01/01 comes before 2020/01/02, but how would you make this comparison in code? Fortunately, you don't have to, `datetime` does it for you.\n",
    "```python\n",
    ">>> # All this does is make a datetime object corresponding to 2020/01/01\n",
    ">>> date1 = dt.date(2020, 1, 1)\n",
    ">>> # All this does is make a datetime object corresponding to 2020/01/02\n",
    ">>> date2 = dt.date(2020, 1, 2)\n",
    ">>> date1 < date2\n",
    "True\n",
    ">>> date1 > date2\n",
    "False\n",
    "```\n",
    "\n",
    "* To extract the year of a `datetime` object, use `.year`.\n",
    "```python\n",
    ">>> date1.year\n",
    "2020\n",
    "```\n",
    "\n",
    "* To extract the month of a `datetime` object, use `.month`.\n",
    "```python\n",
    ">>> date1.month\n",
    "1\n",
    "```\n",
    "\n",
    "* To extract the day of a `datetime` object, use `.day`.\n",
    "```python\n",
    ">>> date1.day\n",
    "1\n",
    "```\n",
    "\n",
    "Easy!\n",
    "\n",
    "Our data has days for both the end of each month and the beginning of each month. We only want data for the end of each month."
   ]
  },
  {
   "cell_type": "markdown",
   "metadata": {
    "deletable": false,
    "editable": false
   },
   "source": [
    "**Question 1.2:** Complete the function `shift_column`, which takes in a table containing stock data for a company, extracts the column defined by the `column` argument, and shifts all values either up by one or down by one depending on the `direction` argument. For the last element (or the first element if we're shifting down), since there was nothing to shift from, assign this element to `None`. Make sure the first element doesn't appear anymore if we're shifting up (last element if we're shifting down). So for example, if the original column is `array([1, 2, 3])` and we want to shift up, the new shifted column will be  `array([2, 3, None])`. If we want to shift down, the new column will be `array([None, 1, 2])`.\n",
    "\n",
    "*Hint*: You can access the last item in an array with `.item(-1)`.\n",
    "\n",
    "<!--\n",
    "BEGIN QUESTION\n",
    "name: q1_2\n",
    "-->"
   ]
  },
  {
   "cell_type": "code",
   "execution_count": 5,
   "metadata": {},
   "outputs": [],
   "source": [
    "def shift_column(table, column, direction):\n",
    "    \"\"\"\n",
    "    Shift the column in table in a direction by one, and return the shifted column as an array.\n",
    "    \n",
    "    Parameters\n",
    "    ----------\n",
    "    table: a datascience table\n",
    "    column: str\n",
    "        a string of a column that appears in table\n",
    "    direction: str\n",
    "        either the string \"up\" or \"down\"\n",
    "    \n",
    "    Returns\n",
    "    -------\n",
    "    array of shifted column\n",
    "    \"\"\"\n",
    "    \n",
    "    assert direction in [\"up\", \"down\"], \"Invalid direction, must be either 'up' or 'down'.\"\n",
    "    assert column in table.labels, \"Invalid column.\"\n",
    "    \n",
    "    array = table.column(...).copy()\n",
    "    \n",
    "    if direction == \"up\":\n",
    "        # .itemset sets the item at the index of the first argument to the value of the second argument.\n",
    "        array.itemset(..., None)\n",
    "        \n",
    "        # Look at the comment below to understand what roll_direction is used for.\n",
    "        roll_direction = -1\n",
    "\n",
    "    else:\n",
    "        array.itemset(..., None)\n",
    "        roll_direction = ...\n",
    "    \n",
    "    # np.roll shifts the array forward by the number in its second argument (backward if negative).\n",
    "    shifted_array = np.roll(array, ...)\n",
    "    \n",
    "    return shifted_array"
   ]
  },
  {
   "cell_type": "code",
   "execution_count": null,
   "metadata": {
    "deletable": false,
    "editable": false
   },
   "outputs": [],
   "source": [
    "grader.check(\"q1_2\")"
   ]
  },
  {
   "cell_type": "markdown",
   "metadata": {
    "deletable": false,
    "editable": false
   },
   "source": [
    "**Question 1.3:** Complete the function `get_day`, which takes in a `datetime` object, and returns the day of each `datetime` object. If the function receives `None` as an argument, it returns -1.\n",
    "\n",
    "<!--\n",
    "BEGIN QUESTION\n",
    "name: q1_3\n",
    "-->"
   ]
  },
  {
   "cell_type": "code",
   "execution_count": 12,
   "metadata": {},
   "outputs": [],
   "source": [
    "def get_day(date_arg):\n",
    "    \"\"\"\n",
    "    Get the day attribute of a datetime object. If date_arg is None, return -1.\n",
    "    \n",
    "    Parameters\n",
    "    ----------\n",
    "    date_arg: datetime\n",
    "    \n",
    "    Returns\n",
    "    -------\n",
    "    int\n",
    "        day attribute of datetime object\n",
    "    \"\"\"\n",
    "    \n",
    "    if date_arg == None:\n",
    "        return ...\n",
    "    else:\n",
    "        return ..."
   ]
  },
  {
   "cell_type": "code",
   "execution_count": null,
   "metadata": {
    "deletable": false,
    "editable": false
   },
   "outputs": [],
   "source": [
    "grader.check(\"q1_3\")"
   ]
  },
  {
   "cell_type": "markdown",
   "metadata": {
    "deletable": false,
    "editable": false
   },
   "source": [
    "**Question 1.4:** Complete the function `get_month`, which takes in a `datetime` object, and returns the month of each `datetime` object. If the function receives `None` as an argument, it returns -1.\n",
    "\n",
    "<!--\n",
    "BEGIN QUESTION\n",
    "name: q1_4\n",
    "-->"
   ]
  },
  {
   "cell_type": "code",
   "execution_count": 15,
   "metadata": {},
   "outputs": [],
   "source": [
    "def get_month(date_arg):\n",
    "    \"\"\"\n",
    "    Get the month attribute of a datetime object. If date_arg is None, return -1.\n",
    "    \n",
    "    Parameters\n",
    "    ----------\n",
    "    date_arg: datetime\n",
    "    \n",
    "    Returns\n",
    "    -------\n",
    "    int\n",
    "        month attribute of datetime object\n",
    "    \"\"\"\n",
    "    \n",
    "    if date_arg == None:\n",
    "        return ...\n",
    "    else:\n",
    "        return ..."
   ]
  },
  {
   "cell_type": "code",
   "execution_count": null,
   "metadata": {
    "deletable": false,
    "editable": false
   },
   "outputs": [],
   "source": [
    "grader.check(\"q1_4\")"
   ]
  },
  {
   "cell_type": "markdown",
   "metadata": {
    "deletable": false,
    "editable": false
   },
   "source": [
    "**Question 1.5:** Complete the function `filter_end_of_month`, which takes in a table, and returns a copy of the table but only with rows corresponding to the end of each month. Think of how we can tell whether a date is the last day of the month in the dataset, given that the data is sorted on date (it is guaranteed that the date of a current row is always before the date of the next row in our data). The final table that the function returns\n",
    "must have the same columns as it had when the function was called.\n",
    "\n",
    "*Hint*: Use `shift_column`, `get_day`, and `get_month`. Also note that you can filter a table using a predicate on another column with the syntax `tbl.where(\"col1\", are.equal_to, \"col2\")`.\n",
    "\n",
    "<!-- `array1 > array2` performs an element-wise greater-than comparison between the two arrays and returns an array of booleans. Similarly, `array1 != array2` performs element-wise not-equal comparison, `array1 & array2` performs element-wise `and` comparison between booleans, and `array1 | array2` performs element-wise `or` comparison between booleans. -->\n",
    "\n",
    "<!--\n",
    "BEGIN QUESTION\n",
    "name: q1_5\n",
    "-->"
   ]
  },
  {
   "cell_type": "code",
   "execution_count": 18,
   "metadata": {},
   "outputs": [],
   "source": [
    "def filter_end_of_month(table):\n",
    "    \"\"\"\n",
    "    Filter table so that only rows corresponding to the end of a month remain.\n",
    "    \n",
    "    Parameters\n",
    "    ----------\n",
    "    table: a datascience table\n",
    "    \n",
    "    Returns\n",
    "    -------\n",
    "    table\n",
    "        Filtered table. Remember that the filtered table should have the same number of columns as the input.\n",
    "    \"\"\"\n",
    "    \n",
    "    table = table.copy()\n",
    "    table = table.with_column(\"shifted_date\", ...)\n",
    "    table = table.with_columns(\n",
    "        \"date_attribute\", ..., \n",
    "        \"shifted_attribute\", ...\n",
    "    )\n",
    "    table = table.where(..., ..., ...)\n",
    "    table = table.drop([...])\n",
    "    return table\n",
    "\n",
    "    return table"
   ]
  },
  {
   "cell_type": "code",
   "execution_count": null,
   "metadata": {
    "deletable": false,
    "editable": false
   },
   "outputs": [],
   "source": [
    "grader.check(\"q1_5\")"
   ]
  },
  {
   "cell_type": "markdown",
   "metadata": {},
   "source": [
    "Excellent. We can now filter our data so that we only consider days that are at the end of each month. This way, when we calculate each stock's monthly return we have a standard way of defining return for every stock. The following code cell applies the `filter_end_of_month` function to each table in our `nyse` dictionary. It might take a minute or so to complete.\n",
    "\n",
    "*Warning*: The following code cell irreversibly alters our existing data in memory. If your function is incorrect and you ran this code cell, you may have to re-load the data into memory."
   ]
  },
  {
   "cell_type": "code",
   "execution_count": 33,
   "metadata": {},
   "outputs": [],
   "source": [
    "for stock in nyse.keys():\n",
    "    filtered_data = filter_end_of_month(nyse[stock])\n",
    "    if filtered_data.num_rows < 2:\n",
    "        nyse.pop(stock, None)\n",
    "    else:\n",
    "        filtered_data = filtered_data.with_column(\n",
    "            \"date_string\", \n",
    "            np.array([date.strftime(\"%Y-%m\") for date in filtered_data.column(\"date\")])\n",
    "        )\n",
    "        nyse[stock] = filtered_data\n",
    "print(\"Number of keys in nyse: \", len(nyse.keys()))"
   ]
  },
  {
   "cell_type": "markdown",
   "metadata": {},
   "source": [
    "## Part 2: Calculating Returns"
   ]
  },
  {
   "cell_type": "markdown",
   "metadata": {},
   "source": [
    "There are several ways to calculate returns for stocks; recall from lecture even De Bondt and Thaler tried a few different methods in their paper. For this project, to keep things simple we will assume return is defined as shown:\n",
    "\n",
    "$$\n",
    "\\text{return} = \\dfrac{\\text{new price}}{\\text{old price}} - 1\n",
    "$$\n",
    "\n",
    "To find the total return over a period of several months, we would do\n",
    "\n",
    "$$\n",
    "\\prod_{\\text{month}=0}^{n-1}\\dfrac{\\text{price}_{\\text{month}+1}}{\\text{price}_{\\text{month}}} - 1 = \\dfrac{\\text{price}_{n}}{\\text{price}_{0}} - 1 = \\dfrac{\\text{new price}}{\\text{old price}} - 1\n",
    "$$\n",
    "\n",
    "Notice that if the price didn't change from one period to the next, return will be 1."
   ]
  },
  {
   "cell_type": "markdown",
   "metadata": {
    "deletable": false,
    "editable": false
   },
   "source": [
    "**Question 2.1:** Complete the function `calculate_return`, which finds the return of any given month in a table using that month's price, the previous month's price, and the formula above. It applies this to each row, then assigns these values to a new column, and returns (no pun intended) the new table. Notice that the first row will not be able to give a return, since we don't have any previous value to reference. Your function should thus also delete the first row of the table. It is recommended that you carefully check to see that your function outputs the desired values as the public tests are not rigorous.\n",
    "\n",
    "*Hint*: Use a function you've defined earlier.\n",
    "\n",
    "<!--\n",
    "BEGIN QUESTION\n",
    "name: q2_1\n",
    "-->"
   ]
  },
  {
   "cell_type": "code",
   "execution_count": 34,
   "metadata": {},
   "outputs": [],
   "source": [
    "def calculate_return(table):\n",
    "    \"\"\"\n",
    "    Calculate return, assign to new column, return table.\n",
    "    \n",
    "    Parameters\n",
    "    ----------\n",
    "    table: a datascience table\n",
    "    \n",
    "    Returns\n",
    "    -------\n",
    "    table\n",
    "        Remember that the return table should have the same number of columns as \n",
    "        the input plus one, and one fewer row than the input. The columns willl be \n",
    "        'date', 'close', and 'return'.\n",
    "    \"\"\"\n",
    "    \n",
    "    table = table.copy()\n",
    "    \n",
    "    # Creates a new column that is the close column but shifted down by one.\n",
    "    table = table.with_column(\"shifted_close\", ...)\n",
    "    \n",
    "    # Delete the first row, cannot calculate return for it.\n",
    "    table = table....\n",
    "    \n",
    "    # Calculate return for each row as this row / previous row quantity minus one.\n",
    "    table = table.with_column(\"return\", (... / ...) - ...)\n",
    "    \n",
    "    # Drop the column we created in this function.\n",
    "    table = table....\n",
    "    \n",
    "    return table\n"
   ]
  },
  {
   "cell_type": "code",
   "execution_count": null,
   "metadata": {
    "deletable": false,
    "editable": false
   },
   "outputs": [],
   "source": [
    "grader.check(\"q2_1\")"
   ]
  },
  {
   "cell_type": "markdown",
   "metadata": {},
   "source": [
    "As before, let's apply this function to every stock we have.\n",
    "\n",
    "*Warning*: The following code cell irreversibly alters our existing data in memory. If your function is incorrect and you ran this code cell, you may have to re-load the data into memory. Additionally, since your function deletes a row every time it runs, you should only run this cell once. If you run it twice in the same notebook instance, you will likely have to re-load the data into memory."
   ]
  },
  {
   "cell_type": "code",
   "execution_count": 41,
   "metadata": {},
   "outputs": [],
   "source": [
    "for stock in nyse.keys():\n",
    "    nyse[stock] = calculate_return(nyse[stock])"
   ]
  },
  {
   "cell_type": "markdown",
   "metadata": {},
   "source": [
    "Calculating return is not enough, however. To see why, imagine something catastrophic happens to the economy, for instance a pandemic. Think to yourself what would happen to the stock price of any arbitrary company, and what would happen to the stock prices of all public companies on average. If something happens to the stock price of a company, does that necessarily reflect something fundamentally different that the company has done to warrant a change in valuation?"
   ]
  },
  {
   "cell_type": "markdown",
   "metadata": {
    "deletable": false,
    "editable": false
   },
   "source": [
    "<!-- BEGIN QUESTION -->\n",
    "\n",
    "**Question 2.2:** In two or fewer sentences explain why the returns we have calculated so far are not sufficient for understanding how well a company does, and why we therefore need to additionally measure the return of some benchmark, like the overall market.\n",
    "\n",
    "<!--\n",
    "BEGIN QUESTION\n",
    "name: q2_2\n",
    "manual: true\n",
    "-->"
   ]
  },
  {
   "cell_type": "markdown",
   "metadata": {},
   "source": [
    "_Type your answer here, replacing this text._"
   ]
  },
  {
   "cell_type": "markdown",
   "metadata": {},
   "source": [
    "<!-- END QUESTION -->\n",
    "\n",
    "\n",
    "\n",
    "We'll make another simplifying assumption and say that the return of the market is simply the average return of every stock we have data for, with each stock receiving equal weight. In reality this is likely a poor metric for market return, as it doesn't make much sense for small, volatile stocks to have the same contribution to average market return as large, well-established companies. It is, however, straightforward to understand and implement.\n",
    "\n",
    "We now create an array that contains all of the dates in our desired range by just taking the date array of one company that we know is old enough to have data for every desired date. We will use this to help us create a new \"stock\" which captures the average market return of all stocks. We do need to be careful in our procedure, however, because as time goes on some stocks come and go from our data, and we need to include all NYSE companies that existed in a given month."
   ]
  },
  {
   "cell_type": "markdown",
   "metadata": {
    "deletable": false,
    "editable": false
   },
   "source": [
    "**Question 2.3:** From looking at IBM's data, we can be sure that the company's date range contains all of the dates required to reproduce the paper's procedure. Let's just use this data to make an array called `date_range` that has all of the `datetime` objects between 1930/01/01 and 1981/1/1, for which there will be one per month.\n",
    "\n",
    "<!--\n",
    "BEGIN QUESTION\n",
    "name: q2_3\n",
    "-->"
   ]
  },
  {
   "cell_type": "code",
   "execution_count": 42,
   "metadata": {},
   "outputs": [],
   "source": [
    "filtered_dates = nyse[\"IBM\"]....\n",
    "date_range = filtered_dates.column(\"date_string\")"
   ]
  },
  {
   "cell_type": "code",
   "execution_count": null,
   "metadata": {
    "deletable": false,
    "editable": false
   },
   "outputs": [],
   "source": [
    "grader.check(\"q2_3\")"
   ]
  },
  {
   "cell_type": "markdown",
   "metadata": {},
   "source": [
    "Now that we have an array of dates that we want to look at, let's create a \"stock\" that captures the average return of the market."
   ]
  },
  {
   "cell_type": "markdown",
   "metadata": {
    "deletable": false,
    "editable": false
   },
   "source": [
    "**Question 2.4:** Complete `market_return`, which takes in a dictionary of tables and a date string, and computes the market return by taking the average of all returns for all stocks that have data for that given date, and returns the market return.\n",
    "\n",
    "<!--\n",
    "BEGIN QUESTION\n",
    "name: q2_4\n",
    "-->"
   ]
  },
  {
   "cell_type": "code",
   "execution_count": 48,
   "metadata": {},
   "outputs": [],
   "source": [
    "def market_return(dictionary, date):\n",
    "    \"\"\"\n",
    "    Calculate returns for a date by finding the average of all returns for stocks present at that date.\n",
    "    \n",
    "    Parameters\n",
    "    ----------\n",
    "    dictionary: dict\n",
    "        nyse data\n",
    "    date: datetime\n",
    "        a date from date_range\n",
    "    \n",
    "    Returns\n",
    "    -------\n",
    "    the market return on the specified date\n",
    "    \"\"\"\n",
    "    \n",
    "    total_return = 0\n",
    "    n = 0\n",
    "    for stock in dictionary.keys():\n",
    "        stock_data = dictionary[...]\n",
    "        this_stock_return = stock_data.where(\"date_string\", ...).column(\"return\")\n",
    "        \n",
    "        if len(this_stock_return) > 0:\n",
    "            total_return += this_stock_return.item(0)\n",
    "            n += 1\n",
    "\n",
    "    if n == 0:\n",
    "        # We should never need to print this. If this does get printed there may be a mistake somewhere. \n",
    "        # Do you know why?\n",
    "        print(\"No data when trying to calculate market return for \", date)\n",
    "        return None\n",
    "\n",
    "    avg_return = ... / ...\n",
    "\n",
    "    return avg_return"
   ]
  },
  {
   "cell_type": "code",
   "execution_count": null,
   "metadata": {
    "deletable": false,
    "editable": false
   },
   "outputs": [],
   "source": [
    "grader.check(\"q2_4\")"
   ]
  },
  {
   "cell_type": "markdown",
   "metadata": {},
   "source": [
    "Now let's run your `market_return` for the first date in `date_range`:"
   ]
  },
  {
   "cell_type": "code",
   "execution_count": 50,
   "metadata": {},
   "outputs": [],
   "source": [
    "market_return(nyse, date_range.item(0))"
   ]
  },
  {
   "cell_type": "markdown",
   "metadata": {},
   "source": [
    "You should have noticed that it took a few seconds to run `market_return`. Considering how much data we have for this project, it would take about 20 minutes for you to run `market_return` on every date in `date_range`. Luckily, we've already done the heavy lifting for you! The cell below will load our market return data into an array nyse_returns.\n",
    "\n",
    "<!-- Now let's run it on all of `nyse`! As mentioned in the problem, it will take a bit to run. Enjoy a cup of tea or a 20-minute nap in the meantime, or perhaps skip ahead and take a look at the next problem. See you there. -->"
   ]
  },
  {
   "cell_type": "code",
   "execution_count": 51,
   "metadata": {
    "scrolled": true
   },
   "outputs": [],
   "source": [
    "# nyse_returns = market_return(nyse, date_range)\n",
    "nyse_returns = np.load(\"nyse_returns.npy\")\n",
    "print(\"First 5 returns in the array:\", nyse_returns[:5])\n",
    "print(\"Number of returns in the array:\", len(nyse_returns))"
   ]
  },
  {
   "cell_type": "markdown",
   "metadata": {},
   "source": [
    "## Part 3: Forming Portfolios\n",
    "\n",
    "Now comes the final part. We're going to finally form portfolios based on how stocks perform relative to the market and see how these portfolios do over time."
   ]
  },
  {
   "cell_type": "markdown",
   "metadata": {
    "deletable": false,
    "editable": false
   },
   "source": [
    "**Question 3.1:** Complete `test_complete_data`, which takes in a table, a start date, an end date, and outputs the filtered table if the array contains complete monthly data for the range of dates, inclusive, and `None` otherwise. For simplicity, we can just assume that a table has complete data in the range if the number of rows it has in that range makes sense.\n",
    "\n",
    "<!--\n",
    "BEGIN QUESTION\n",
    "name: q3_1\n",
    "-->"
   ]
  },
  {
   "cell_type": "code",
   "execution_count": 52,
   "metadata": {},
   "outputs": [],
   "source": [
    "def test_complete_data(table, start, end):\n",
    "    \"\"\"\n",
    "    Check if table has complete data in the specified date range.\n",
    "    \n",
    "    Parameters\n",
    "    ----------\n",
    "    table: table\n",
    "    start: datetime\n",
    "        start of date range\n",
    "    end: datetime\n",
    "        end of date range\n",
    "    \n",
    "    Returns\n",
    "    -------\n",
    "    table\n",
    "        Return the original table where the dates fall within the range if the original table has \n",
    "        complete data, otherwise return None.\n",
    "    \"\"\"\n",
    "    \n",
    "    # Isolate the part of the table where date is in the given range, inclusive.\n",
    "    table = table....\n",
    "    table = table....\n",
    "    \n",
    "    # Measure how many years the range spans.\n",
    "    year_diff = ... - ...\n",
    "    \n",
    "    # Measure how many months ignoring years.\n",
    "    month_diff = ... - ...\n",
    "    \n",
    "    # Now we calculate how many months are in the range by multiplying the number of years by 12.\n",
    "    total_diff = ... * 12 + ... + ...\n",
    "    \n",
    "    # There should be one row per month, and so if the table has complete data there will be as many\n",
    "    # rows as months in the date range, inclusive.\n",
    "    if table.num_rows == ...:\n",
    "        return table\n",
    "    else:\n",
    "        return None"
   ]
  },
  {
   "cell_type": "code",
   "execution_count": null,
   "metadata": {
    "deletable": false,
    "editable": false
   },
   "outputs": [],
   "source": [
    "grader.check(\"q3_1\")"
   ]
  },
  {
   "cell_type": "markdown",
   "metadata": {
    "deletable": false,
    "editable": false
   },
   "source": [
    "**Question 3.2:** Complete `rank_stocks`, which takes in a dictionary, a start index, an end index, an array containing a range of dates, and an array containing market returns that correspond to the range of dates, and then outputs a sorted table containing stocks and their excess returns over the period, with best-performing stocks first. There are no hidden tests for this quesiton.\n",
    "\n",
    "<!--\n",
    "BEGIN QUESTION\n",
    "name: q3_2\n",
    "-->"
   ]
  },
  {
   "cell_type": "code",
   "execution_count": 55,
   "metadata": {},
   "outputs": [],
   "source": [
    "def rank_stocks(dictionary, start, end, dates, market_returns):\n",
    "    \"\"\"\n",
    "    Create a table of stock rankings based on excess returns, with best stocks at the head of the table.\n",
    "    \n",
    "    Parameters\n",
    "    ----------\n",
    "    dictionary: dict\n",
    "        nyse data\n",
    "    start: int\n",
    "        index of the desired start date in dates\n",
    "    end: int\n",
    "        index of the desired end date in dates\n",
    "    dates: array\n",
    "        date_range computed earlier\n",
    "    market_returns: array\n",
    "        nyse_returns computed earlier\n",
    "    \n",
    "    Returns\n",
    "    -------\n",
    "    table\n",
    "        Sorted table of stocks and returns over date range. Table columns should be 'stocks' and \n",
    "        'excess_returns'.\n",
    "    \"\"\"\n",
    "    \n",
    "    # Convert the date strings received to datetime objects for easy date selection.\n",
    "    start_date = dt.date.fromisoformat(dates.item(start) + \"-01\")\n",
    "    end_date = dt.date.fromisoformat(dates.item(end) + \"-31\")\n",
    "    \n",
    "    # We only need the market returns in the given date range. Fortunately, we can simply index into the \n",
    "    # market return array since we computed it using the same master date array, so the indices for the \n",
    "    # date array will match the indices for the market returns array.\n",
    "    relevant_market_returns = market_returns.take(np.arange(start, end + 1))\n",
    "    \n",
    "    stocks = make_array()\n",
    "    excess_returns = make_array()\n",
    "    for stock in dictionary.keys():\n",
    "        stock_data = dictionary[...]\n",
    "        test_table = test_complete_data(..., ..., ...)\n",
    "        \n",
    "        if type(test_table) != type(None):\n",
    "            cumulative_excess_return = test_table.column(\"return\") - relevant_market_returns + 1\n",
    "            excess_returns = np.append(excess_returns, cumulative_excess_return.prod())\n",
    "            stocks = np.append(stocks, stock)\n",
    "    \n",
    "    return Table().with_columns(\"stock\", ..., \n",
    "                                \"excess_returns\", ...).sort(\"excess_returns\", descending=...)"
   ]
  },
  {
   "cell_type": "code",
   "execution_count": null,
   "metadata": {
    "deletable": false,
    "editable": false
   },
   "outputs": [],
   "source": [
    "grader.check(\"q3_2\")"
   ]
  },
  {
   "cell_type": "markdown",
   "metadata": {
    "deletable": false,
    "editable": false
   },
   "source": [
    "**Question 3.3:** Complete `track_portfolio`, which tracks the progress of the best and worst performers from a table of ranks. There are no hidden tests for this question, and the public tests only check that `track_portfolio` works correctly in simple test-cases so students are not penalized for cascading errors. Notice that this function returns two things. If you have not seen this before, this is something nice we can make functions do. To save both things that such a function outputs into variables, we would simply write `thing1, thing2 = function(arguments)`.\n",
    "\n",
    "*Hint*: What function have we defined and used above that takes a group of stocks and finds their average return?\n",
    "\n",
    "<!--\n",
    "BEGIN QUESTION\n",
    "name: q3_3\n",
    "-->"
   ]
  },
  {
   "cell_type": "code",
   "execution_count": 58,
   "metadata": {},
   "outputs": [],
   "source": [
    "def track_portfolio(ranks, top_n, start, end, dates, market_returns, dictionary):\n",
    "    \"\"\"\n",
    "    Track the performance of the winning and losing portfolios.\n",
    "    \n",
    "    Parameters\n",
    "    ----------\n",
    "    ranks: table\n",
    "    top_n: int\n",
    "        top n companies to select in portfolio\n",
    "    start: int\n",
    "    end: int\n",
    "    dates: array\n",
    "    market_returns: array\n",
    "    dictionary: dict\n",
    "        nyse\n",
    "    \n",
    "    Returns\n",
    "    -------\n",
    "    float, float\n",
    "        cumulative average returns of portfolios\n",
    "    \"\"\"\n",
    "\n",
    "    winning_indices = np.arange(0, top_n)\n",
    "    losing_indices = np.arange(ranks.num_rows - top_n, ranks.num_rows)\n",
    "    winning_port = ranks.take(...).column(\"stocks\")\n",
    "    losing_port = ranks.take(...).column(\"stocks\")\n",
    "    winning_dictionary = {}\n",
    "    losing_dictionary = {}\n",
    "    for stock in ...:\n",
    "        winning_dictionary[stock] = dictionary[stock]\n",
    "    for stock in ...:\n",
    "        losing_dictionary[stock] = dictionary[stock]\n",
    "    current_dates = dates.take(np.arange(start, end + 1))\n",
    "    relevant_market_returns = market_returns.take(np.arange(start, end + 1))\n",
    "    winning_market_returns = make_array()\n",
    "    losing_market_returns = make_array()\n",
    "    for date in current_dates:\n",
    "        winning_market_returns = np.append(winning_market_returns, ...)\n",
    "        losing_market_returns = np.append(losing_market_returns, ...)\n",
    "    winning_returns = winning_market_returns - relevant_market_returns + 1\n",
    "    losing_returns = losing_market_returns - relevant_market_returns + 1\n",
    "    return winning_returns.prod(), losing_returns.prod()"
   ]
  },
  {
   "cell_type": "code",
   "execution_count": null,
   "metadata": {
    "deletable": false,
    "editable": false
   },
   "outputs": [],
   "source": [
    "grader.check(\"q3_3\")"
   ]
  },
  {
   "cell_type": "markdown",
   "metadata": {
    "deletable": false,
    "editable": false
   },
   "source": [
    "**Question 3.4:** Let's wrap it up. Complete `main_function`, which specifies blocks of dates, and for each block it forms winning and losing portfolios, finds the cumulative excess returns of these portfolios for each date block, and averages all of these together. There are no hidden tests for this question.\n",
    "\n",
    "<!--\n",
    "BEGIN QUESTION\n",
    "name: q3_4\n",
    "-->"
   ]
  },
  {
   "cell_type": "code",
   "execution_count": 60,
   "metadata": {},
   "outputs": [],
   "source": [
    "def main_function(dictionary, dates, market_returns, top_n, chunk_size=36):\n",
    "    \"\"\"\n",
    "    Compute two arrays, each containing cumulative excess returns of winning and losing portfolios\n",
    "    respectively for all dates.\n",
    "    \n",
    "    Parameters\n",
    "    ----------\n",
    "    dictionary: dict\n",
    "        nyse\n",
    "    dates: array\n",
    "    market_returns: array\n",
    "    top_n: int\n",
    "        top n companies to select in portfolio\n",
    "    \n",
    "    Returns\n",
    "    -------\n",
    "    array, array\n",
    "    \"\"\"\n",
    "    winning_average_cumulative_excess_return = make_array()\n",
    "    losing_average_cumulative_excess_return = make_array()\n",
    "    date_index_ranges = np.split(np.arange(0, len(dates)), int(len(dates) / chunk_size))\n",
    "    for i in range(len(date_index_ranges)-1):\n",
    "        date_index_array = date_index_ranges[i]\n",
    "        date_index_array_next = date_index_ranges[i+1]\n",
    "        ranking = ...(dictionary, date_index_array...., date_index_array...., dates, market_returns)\n",
    "        w, l = ...(..., top_n, date_index_array_next...., date_index_array_next...., \n",
    "                   dates, market_returns, dictionary)\n",
    "        winning_average_cumulative_excess_return = np.append(winning_average_cumulative_excess_return, ...)\n",
    "        losing_average_cumulative_excess_return = np.append(losing_average_cumulative_excess_return, ...)\n",
    "        print(\"Finished block \", i)\n",
    "    return winning_average_cumulative_excess_return, losing_average_cumulative_excess_return"
   ]
  },
  {
   "cell_type": "code",
   "execution_count": null,
   "metadata": {
    "deletable": false,
    "editable": false
   },
   "outputs": [],
   "source": [
    "grader.check(\"q3_4\")"
   ]
  },
  {
   "cell_type": "markdown",
   "metadata": {},
   "source": [
    "Now call your main function! Its arguments should be `nyse`, `date_range`, `nyse_returns`, `35`. You can also explore values of `top_n` other than 35. The function may take a couple minutes to run."
   ]
  },
  {
   "cell_type": "code",
   "execution_count": 63,
   "metadata": {},
   "outputs": [],
   "source": [
    "w_array, l_array = ..."
   ]
  },
  {
   "cell_type": "code",
   "execution_count": 64,
   "metadata": {},
   "outputs": [],
   "source": [
    "w_array"
   ]
  },
  {
   "cell_type": "code",
   "execution_count": 65,
   "metadata": {},
   "outputs": [],
   "source": [
    "l_array"
   ]
  },
  {
   "cell_type": "markdown",
   "metadata": {
    "deletable": false,
    "editable": false
   },
   "source": [
    "<!-- BEGIN QUESTION -->\n",
    "\n",
    "**Question 3.5:** What do you notice about the array of returns of winner portfolios and loser portfolios? Does this seem to match what De Bondt and Thaler argue? Please limit your response to one or two sentences.\n",
    "\n",
    "<!--\n",
    "BEGIN QUESTION\n",
    "name: q3_5\n",
    "manual: true\n",
    "-->"
   ]
  },
  {
   "cell_type": "markdown",
   "metadata": {},
   "source": [
    "_Type your answer here, replacing this text._"
   ]
  },
  {
   "cell_type": "markdown",
   "metadata": {
    "deletable": false,
    "editable": false
   },
   "source": [
    "<!-- END QUESTION -->\n",
    "\n",
    "<!-- BEGIN QUESTION -->\n",
    "\n",
    "**Question 3.6:** However close or far away your numbers look from what you expected, they are not an exact match to the numbers from the paper. Why is this, and what does this say about the idea of reproducibility? Please limit your response to two or three sentences.\n",
    "\n",
    "<!--\n",
    "BEGIN QUESTION\n",
    "name: q3_6\n",
    "manual: true\n",
    "-->"
   ]
  },
  {
   "cell_type": "markdown",
   "metadata": {},
   "source": [
    "_Type your answer here, replacing this text._"
   ]
  },
  {
   "cell_type": "markdown",
   "metadata": {},
   "source": [
    "<!-- END QUESTION -->\n",
    "\n",
    "\n",
    "\n",
    "## Conclusion\n",
    "\n",
    "Congratulations, you've finished Project 4! Hopefully you've enjoyed doing the kind of work that foreshadows what some research in economics might look like. Additionally, we hope the theme of reproducibility we targeted for this week/project was insightful."
   ]
  },
  {
   "cell_type": "markdown",
   "metadata": {
    "deletable": false,
    "editable": false
   },
   "source": [
    "---\n",
    "\n",
    "To double-check your work, the cell below will rerun all of the autograder tests."
   ]
  },
  {
   "cell_type": "code",
   "execution_count": null,
   "metadata": {
    "deletable": false,
    "editable": false
   },
   "outputs": [],
   "source": [
    "grader.check_all()"
   ]
  },
  {
   "cell_type": "markdown",
   "metadata": {
    "deletable": false,
    "editable": false
   },
   "source": [
    "## Submission\n",
    "\n",
    "Make sure you have run all cells in your notebook in order before running the cell below, so that all images/graphs appear in the output. The cell below will generate a zip file for you to submit. **Please save before exporting!**"
   ]
  },
  {
   "cell_type": "code",
   "execution_count": null,
   "metadata": {
    "deletable": false,
    "editable": false
   },
   "outputs": [],
   "source": [
    "# Save your notebook first, then run this cell to export your submission.\n",
    "grader.export(\"proj04.ipynb\")"
   ]
  },
  {
   "cell_type": "markdown",
   "metadata": {},
   "source": [
    " "
   ]
  }
 ],
 "metadata": {
  "@webio": {
   "lastCommId": null,
   "lastKernelId": null
  },
  "kernelspec": {
   "display_name": "Python 3",
   "language": "python",
   "name": "python3"
  },
  "language_info": {
   "codemirror_mode": {
    "name": "ipython",
    "version": 3
   },
   "file_extension": ".py",
   "mimetype": "text/x-python",
   "name": "python",
   "nbconvert_exporter": "python",
   "pygments_lexer": "ipython3",
   "version": "3.7.3"
  },
  "varInspector": {
   "cols": {
    "lenName": 16,
    "lenType": 16,
    "lenVar": 40
   },
   "kernels_config": {
    "python": {
     "delete_cmd_postfix": "",
     "delete_cmd_prefix": "del ",
     "library": "var_list.py",
     "varRefreshCmd": "print(var_dic_list())"
    },
    "r": {
     "delete_cmd_postfix": ") ",
     "delete_cmd_prefix": "rm(",
     "library": "var_list.r",
     "varRefreshCmd": "cat(var_dic_list()) "
    }
   },
   "types_to_exclude": [
    "module",
    "function",
    "builtin_function_or_method",
    "instance",
    "_Feature"
   ],
   "window_display": false
  }
 },
 "nbformat": 4,
 "nbformat_minor": 2
}
