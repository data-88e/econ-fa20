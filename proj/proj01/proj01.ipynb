{
 "cells": [
  {
   "cell_type": "code",
   "execution_count": null,
   "metadata": {
    "deletable": false,
    "editable": false
   },
   "outputs": [],
   "source": [
    "# Initialize Otter\n",
    "import otter\n",
    "grader = otter.Notebook()"
   ]
  },
  {
   "cell_type": "markdown",
   "metadata": {},
   "source": [
    "<table style=\"width: 100%;\" id=\"nb-header\">\n",
    "    <tr style=\"background-color: transparent;\"><td>\n",
    "        <img src=\"https://d8a-88.github.io/assets/images/blue_text.png\" width=\"250px\" style=\"margin-left: 0;\" />\n",
    "    </td><td>\n",
    "        <p style=\"text-align: right; font-size: 10pt;\"><strong>Economic Models</strong>, Fall 2020<br>\n",
    "            Dr. Eric Van Dusen <br>\n",
    "        Amal Bhatnagar, Alan Liang, Shashank Dalmia <br>\n",
    "</table>"
   ]
  },
  {
   "cell_type": "markdown",
   "metadata": {
    "cell_id": "00000-2b51d8fd-1560-415f-a313-027398760f4f",
    "tags": []
   },
   "source": [
    "# Project 1: Airbnb\n",
    "\n",
    "In this project, we will empirically examine the fundamental concepts of supply and demand through Airbnb rentals in Boston. We will also analyze the effects of occupancy taxes on the short-term rental market, which was enacted by the Massachussetts state legislature on July 1st, 2019. \n",
    "\n",
    "The lab is roughly divided into 3 large parts:\n",
    "- In the first part, you conduct some data processing and create a demand curve from (imputed) Airbnb transactions. \n",
    "- In the second part, you will create a supply for Airbnb listings and determine the market equilibrium.\n",
    "- In the third part, you will examine the effects of the occupancy tax on the market."
   ]
  },
  {
   "cell_type": "code",
   "execution_count": 85,
   "metadata": {},
   "outputs": [],
   "source": [
    "from datascience import *\n",
    "import numpy as np\n",
    "import matplotlib.pyplot as plt\n",
    "import sympy\n",
    "sympy.init_printing(print_builtin=False)\n",
    "solve = lambda x,y: sympy.solve(x-y)[0] if len(sympy.solve(x-y))==1 else \"Not Single Solution\"\n",
    "%matplotlib inline"
   ]
  },
  {
   "cell_type": "markdown",
   "metadata": {},
   "source": [
    "## The Data\n",
    "\n",
    "The data for this project originate from [*Inside Airbnb*](http://insideairbnb.com/), an independent investigatory project that collects and hosts substantial Airbnb data on more than 100 cities around the world. The data collected by *Inside Airbnb* are web-scraped from the Airbnb website on a roughly monthly basis. Although *Inside Airbnb* was originally started by its creators to investigate the effects of Airbnb on affordable housing and exacerbating gentrification, the data are made public for free and open for use. \n",
    "\n",
    "For this project, we will be examining Airbnb transactions and listings 3 months around July 1st, 2019 (i.e. April to September 2019) due to its proximity to the enactment of the occupancy tax. \n",
    "\n",
    "Let's go ahead and load in the dataset `airbnb-small.csv`."
   ]
  },
  {
   "cell_type": "code",
   "execution_count": 135,
   "metadata": {
    "cell_id": "00002-b44f0794-faa1-4085-8af6-203425d6e0fa",
    "tags": []
   },
   "outputs": [],
   "source": [
    "boston = Table.read_table(\"airbnb-small.csv\")\n",
    "boston"
   ]
  },
  {
   "cell_type": "markdown",
   "metadata": {
    "cell_id": "00006-4b56e95e-327a-4d5e-80d2-14164c36c93b",
    "tags": []
   },
   "source": [
    "Each row of `boston` refers to a listing's availability for a particular date. Thus, the *granularity* of the data is on a listing-day level. This is because our 'atomic unit' of transactions (the definition of 1 unit of a good) is on the per listing per night level.\n",
    "\n",
    "The columns of the table are as follows:\n",
    "* The `month` and `date` refer to the month and the day of the month of a unit-night (in 2019). \n",
    "* The `dow` indicates the day of the week, where 0 is Monday, 1 is Tuesday and so on.\n",
    "* The `id` column references the id of the Airbnb unit. Each ID uniquely determines a listing, and every listing only has 1 ID. (You can visit each listing's URL on Airbnb by going to https://www.airbnb.com/rooms/YOUR_ID_HERE with the id to look up the listing on the airbnb website.)\n",
    "* The `price` column shows the price of the listing for the given date.\n",
    "* The `neighbourhood` and `room_type` columns show the neighbourhood (within in Boston) and type of unit the accommodation is offered in. \n",
    "* The `master_key` columns contains 2 integer values. \n",
    "    - `1` denotes the situation when a property was offered for rent but **not booked** by a guest.\n",
    "    - `2` denotes the situation when a property was offereed for rent and **booked** by a guest.\n",
    "\n",
    "Let's go over an example by taking a look at listing 5506 in the month of April:"
   ]
  },
  {
   "cell_type": "code",
   "execution_count": 136,
   "metadata": {},
   "outputs": [],
   "source": [
    "boston.where(\"id\", 5506).where('month', 4)"
   ]
  },
  {
   "cell_type": "markdown",
   "metadata": {},
   "source": [
    "Looking at the first row, we see that it refers to listing 5506, which you can check out on Airbnb [here](https://www.airbnb.com/rooms/5506). This row corresponds to April 1st, 2019, which was a Monday. The price that night was \\\\$145. The unit is located in the Roxbury neighborhood and is an entire home or apartment. Lastly, the unit was not occupied by a guest on April 1st, 2019. "
   ]
  },
  {
   "cell_type": "markdown",
   "metadata": {},
   "source": [
    "Lastly, before we get started, it is also a good idea to keep in mind the idea of *implicit costs*: hosts can decide to block out a set of dates on their calendar and not rent out the listing at all on those dates. As economists we will assume that intentionally not renting out a unit is associated with an opportunity cost and can thus be considered as some sort of *implict demand*.\n",
    "\n",
    "For example, the listing with ID `442735` did not offer the unit for quite a few nights in the month of April. \n",
    "This reflects the opportunity cost of hosts for not renting for a night, and consuming the product themselves. "
   ]
  },
  {
   "cell_type": "code",
   "execution_count": 137,
   "metadata": {
    "cell_id": "00008-d6b1e288-27d3-47a5-99a9-952a39bc52af",
    "tags": []
   },
   "outputs": [],
   "source": [
    "boston.where(\"id\", 442735).where('month', 4)"
   ]
  },
  {
   "cell_type": "markdown",
   "metadata": {
    "cell_id": "00010-ced5c4c9-f843-4c26-8b00-15358caa2a8d",
    "tags": []
   },
   "source": [
    "## Preprocessing the Data"
   ]
  },
  {
   "cell_type": "markdown",
   "metadata": {
    "cell_id": "00008-d10af2e5-c31d-4e5d-b7a8-415cbb196b3f",
    "tags": []
   },
   "source": [
    "In the perfect world, supply and demand curves denote the quantity demanded and supplied at different prices for *homogeneous goods*, i.e. goods that are basically the same all factors considered. The examples we've covered so far, such as electricity or beef, fit this definition well, but Airbnb units (and their associated dates) are typically quite diverse. This casts a little bit of uncertainty in generalizing our results, but we'll try our best to control for certain factors.\n",
    "\n",
    "Let's start with an obvious difference: some Airbnb listings are private rooms, some are entire homes/apartments, and some are shared rooms. Conceivably, the type of Airbnb a listing will attract a different set of guests and be offered at different price points. "
   ]
  },
  {
   "cell_type": "markdown",
   "metadata": {
    "deletable": false,
    "editable": false
   },
   "source": [
    "**Question 1.1**: Let's restrict our analysis to only listings that entire homes or apartments; it turns out that a majority of the properties are of either entire homes or entire apartments. Save your results to the same `boston` table, overwriting the previous one.\n",
    "\n",
    "<!--\n",
    "BEGIN QUESTION\n",
    "name: q1_1\n",
    "-->"
   ]
  },
  {
   "cell_type": "code",
   "execution_count": 138,
   "metadata": {
    "cell_id": "00004-858c1878-e8c9-4843-be07-d01a86b1a947",
    "tags": []
   },
   "outputs": [],
   "source": [
    "boston = ...\n",
    "boston"
   ]
  },
  {
   "cell_type": "code",
   "execution_count": null,
   "metadata": {
    "deletable": false,
    "editable": false
   },
   "outputs": [],
   "source": [
    "grader.check(\"q1_1\")"
   ]
  },
  {
   "cell_type": "markdown",
   "metadata": {
    "cell_id": "00010-18aeae96-28e2-473f-b037-dc1f7594a6b3",
    "deletable": false,
    "editable": false,
    "tags": []
   },
   "source": [
    "**Question 1.2**: In addition, it is conceivable that prices and the types of consumers are substantially different between weekdays and weekends, implying ultimately different types of goods. Let's restrict our analysis further to account for the day of the week by focusing on Friday and Saturday. Save your results to the same `boston` table, overwriting the previous table.\n",
    "\n",
    "_Hint:_ How are weekday values encoded in the `dow` column?\n",
    "\n",
    "<!--\n",
    "BEGIN QUESTION\n",
    "name: q1_2\n",
    "-->"
   ]
  },
  {
   "cell_type": "code",
   "execution_count": 141,
   "metadata": {
    "cell_id": "00005-ecf5f60c-d622-417c-b995-966974a52730",
    "tags": []
   },
   "outputs": [],
   "source": [
    "boston = ...\n",
    "boston"
   ]
  },
  {
   "cell_type": "code",
   "execution_count": null,
   "metadata": {
    "deletable": false,
    "editable": false
   },
   "outputs": [],
   "source": [
    "grader.check(\"q1_2\")"
   ]
  },
  {
   "cell_type": "markdown",
   "metadata": {
    "cell_id": "00012-88914f7a-873d-4d98-8597-dc862adb1ac8",
    "deletable": false,
    "editable": false,
    "tags": []
   },
   "source": [
    "**Question 1.3**: To remove outliers, let's also remove listing nights in which the per-night price was \\\\$1000 or greater. Save your results to the same `boston` table, overwriting the previous table.\n",
    "\n",
    "<!--\n",
    "BEGIN QUESTION\n",
    "name: q1_3\n",
    "-->"
   ]
  },
  {
   "cell_type": "code",
   "execution_count": 11,
   "metadata": {
    "cell_id": "00006-bb49228c-7e68-4ec0-8683-063c5c74cfad",
    "tags": []
   },
   "outputs": [],
   "source": [
    "boston = ...\n",
    "boston"
   ]
  },
  {
   "cell_type": "code",
   "execution_count": null,
   "metadata": {
    "deletable": false,
    "editable": false
   },
   "outputs": [],
   "source": [
    "grader.check(\"q1_3\")"
   ]
  },
  {
   "cell_type": "markdown",
   "metadata": {
    "deletable": false,
    "editable": false
   },
   "source": [
    "<!-- BEGIN QUESTION -->\n",
    "\n",
    "**Question 1.4**: What other factors may differ across Airbnb listings? This is an open ended question, so points will be awarded on answers that indicate effort and are reasonably justified. Note that these factors do not have to exist in the given columns.\n",
    "\n",
    "<!--\n",
    "BEGIN QUESTION\n",
    "name: q1_4\n",
    "manual: true\n",
    "-->"
   ]
  },
  {
   "cell_type": "markdown",
   "metadata": {},
   "source": [
    "_Type your answer here, replacing this text._"
   ]
  },
  {
   "cell_type": "markdown",
   "metadata": {
    "cell_id": "00020-e3ee0372-dedf-44e8-aadb-4f566f0966fa",
    "deletable": false,
    "editable": false,
    "tags": []
   },
   "source": [
    "<!-- END QUESTION -->\n",
    "\n",
    "**Question 1.5**: We will split our analysis in two periods: before and after the tax. Create a table called `boston_pre` that contains all listing-nights observations before the occupancy tax, which came into effect on July 1st, 2019.\n",
    "\n",
    "<!--\n",
    "BEGIN QUESTION\n",
    "name: q1_5\n",
    "-->"
   ]
  },
  {
   "cell_type": "code",
   "execution_count": 14,
   "metadata": {
    "cell_id": "00019-0f002245-2b5d-46cb-a704-66af447fcafe",
    "tags": []
   },
   "outputs": [],
   "source": [
    "boston_pre = ...\n",
    "boston_pre"
   ]
  },
  {
   "cell_type": "code",
   "execution_count": null,
   "metadata": {
    "deletable": false,
    "editable": false
   },
   "outputs": [],
   "source": [
    "grader.check(\"q1_5\")"
   ]
  },
  {
   "cell_type": "markdown",
   "metadata": {
    "cell_id": "00020-e2cfff40-aae3-4b0e-bd6b-e28f29cec6fe",
    "tags": []
   },
   "source": [
    "## Building the Demand Curve"
   ]
  },
  {
   "cell_type": "markdown",
   "metadata": {
    "cell_id": "00020-f5b223a8-e7a8-4334-93ec-d0d8489cb3c7",
    "tags": []
   },
   "source": [
    "Now that we have controlled for some factors that might cause heterogeneity in our observations, we can go ahead and create the demand curve."
   ]
  },
  {
   "cell_type": "markdown",
   "metadata": {
    "deletable": false,
    "editable": false
   },
   "source": [
    "**Question 2.1**: Filter `boston_pre` for only those rentals that were actually transacted, i.e, where `master_key` is `2`. Assign this table to the name `boston_pre_demand`.\n",
    "\n",
    "<!--\n",
    "BEGIN QUESTION\n",
    "name: q2_1\n",
    "-->"
   ]
  },
  {
   "cell_type": "code",
   "execution_count": 17,
   "metadata": {
    "cell_id": "00020-bf6e1c24-40f5-47d3-a4e2-06f8e40ce95a",
    "tags": []
   },
   "outputs": [],
   "source": [
    "boston_pre_demand = ...\n",
    "boston_pre_demand"
   ]
  },
  {
   "cell_type": "code",
   "execution_count": null,
   "metadata": {
    "deletable": false,
    "editable": false
   },
   "outputs": [],
   "source": [
    "grader.check(\"q2_1\")"
   ]
  },
  {
   "cell_type": "markdown",
   "metadata": {
    "cell_id": "00014-a4347724-060a-4a6e-8ec8-90f0ddfd1b2f",
    "tags": []
   },
   "source": [
    "The supply and demand curve show the number of consumers who are willing to purchase a good and the number of goods the producer is willing to produce at any price. However, prices are often noisy and each producer is able to set their own price, making it difficult to account for demand properly at each individual price.\n",
    "\n",
    "One solution is to group the prices into bins by using the [`tbl.bin(...)`](http://data8.org/datascience/_autosummary/datascience.tables.Table.bin.html) method. We know that this function is new and will not be covered in Data 8, so here is an example of what `tbl.bin` does."
   ]
  },
  {
   "cell_type": "code",
   "execution_count": 20,
   "metadata": {},
   "outputs": [],
   "source": [
    "# Create an example table\n",
    "example_tbl = Table().with_columns(\n",
    "    \"fruits\", make_array(\"apples\", \"pears\", \"bananas\", \"cherries\", \"dragonfruit\", \"mangoes\", \"strawberries\"),\n",
    "    \"price\", make_array(1, 2, 1, 3, 5, 6, 12)\n",
    ")\n",
    "example_tbl"
   ]
  },
  {
   "cell_type": "code",
   "execution_count": 21,
   "metadata": {},
   "outputs": [],
   "source": [
    "bins = np.arange(0, 20, 5) # make an array with values [0, 5, 10, 15]\n",
    "example_tbl.bin(\"price\", bins = bins)"
   ]
  },
  {
   "cell_type": "markdown",
   "metadata": {},
   "source": [
    "What did `tbl.bin` do? First, we created an array of 4 values from 0 to 15 that each correspond to the left end of a bin. In the first bin, there are 4 entries of `fruits` with prices that are between 0 and 5 (not inclusive of 5). In the second bin, there are 2 entries with prices between 5 and 10 (not inclusive of 10), and so on. The binned table will display the number of counts (number of occurrences) within each bin."
   ]
  },
  {
   "cell_type": "markdown",
   "metadata": {
    "deletable": false,
    "editable": false
   },
   "source": [
    "**Question 2.2**:  Now that you have an understanding of how to group values of a table into bins, let's use `tbl.bin` to group the prices into 50 equally spaced bins from \\\\$0 to \\\\$1000. Store this in a new table called `boston_pre_demand_binned`, with the column `price` representing the left end for each price bin and the column `quantity` representing the amount of nights transacted at that corresponding price bin.\n",
    "\n",
    "*Hint*: Using `np.arange`, how large should each step size be?\n",
    "\n",
    "<!--\n",
    "BEGIN QUESTION\n",
    "name: q2_2\n",
    "-->"
   ]
  },
  {
   "cell_type": "code",
   "execution_count": 22,
   "metadata": {
    "cell_id": "00008-4bbcdc8d-4bb7-48d1-b872-2e4b8e49c132",
    "tags": []
   },
   "outputs": [],
   "source": [
    "bins = ...\n",
    "boston_pre_demand_binned = boston_pre_demand.bin(..., bins=...)\n",
    "boston_pre_demand_binned = boston_pre_demand_binned.relabeled(..., ...)\n",
    "boston_pre_demand_binned = boston_pre_demand_binned.relabeled(..., ...)\n",
    "boston_pre_demand_binned"
   ]
  },
  {
   "cell_type": "code",
   "execution_count": null,
   "metadata": {
    "deletable": false,
    "editable": false
   },
   "outputs": [],
   "source": [
    "grader.check(\"q2_2\")"
   ]
  },
  {
   "cell_type": "markdown",
   "metadata": {
    "cell_id": "00026-9ccf9d69-36ac-4b3d-a7e1-ceddc012d85c",
    "tags": []
   },
   "source": [
    "Let's create a scatter plot of price and quantity to visualize the relationship."
   ]
  },
  {
   "cell_type": "code",
   "execution_count": 25,
   "metadata": {
    "cell_id": "00011-492a6e0d-d697-41ae-95b1-bf2eba609ed2",
    "tags": []
   },
   "outputs": [],
   "source": [
    "boston_pre_demand_binned.scatter(\"quantity\", \"price\")\n",
    "plt.xlabel('quantity')\n",
    "plt.ylabel('price');"
   ]
  },
  {
   "cell_type": "markdown",
   "metadata": {
    "cell_id": "00028-9a4e0f42-8ef9-4f65-932e-fd85973241ab",
    "tags": []
   },
   "source": [
    "Is this the demand curve? \n",
    "\n",
    "Although the plot may look like it exhibits a downward sloping relationship between price and quantity, this is not the actual demand curve. What this scatter plot shows is the price at which rentals were booked and the quantity of bookings at those *specific* prices. **It does not show the total amount of bookings that would be demanded at those prices.**\n",
    "\n",
    "For example, at the price of \\\\$60, everyone who has paid a higher amount would still demand and gladly book a rental at that lower price. So the quantity demanded at \\\\$60 is all the people who paid \\\\$60. Similarly, the quantity demanded at \\\\$80 should be all the people who paid \\\\$80 or more. \n",
    "\n",
    "Note that here, we assume all units are the same and equally interchangeable. We attempted in part 1 to restrict our analysis to units that were more similar, but this approach is far from perfect."
   ]
  },
  {
   "cell_type": "markdown",
   "metadata": {
    "deletable": false,
    "editable": false
   },
   "source": [
    "**Question 2.3:** Create a new column called `quantity_demanded` to show the quantity demanded at a given price and add it to the table `boston_pre_demand_binned`.\n",
    "\n",
    "_Hint:_ Yoy may need to use the function [`np.flip`](https://numpy.org/doc/stable/reference/generated/numpy.flip.html)  (which reverses the array) and [`np.cumsum`](https://numpy.org/doc/stable/reference/generated/numpy.cumsum.html) to construct the `quantity_demanded` array.\n",
    "\n",
    "<!--\n",
    "BEGIN QUESTION\n",
    "name: q2_3\n",
    "-->"
   ]
  },
  {
   "cell_type": "code",
   "execution_count": 26,
   "metadata": {
    "cell_id": "00009-927e025d-325b-444e-8c8b-95b3bd9f9689",
    "tags": []
   },
   "outputs": [],
   "source": [
    "quantity_demanded = ...\n",
    "boston_pre_demand_binned = ...\n",
    "boston_pre_demand_binned"
   ]
  },
  {
   "cell_type": "code",
   "execution_count": null,
   "metadata": {
    "deletable": false,
    "editable": false
   },
   "outputs": [],
   "source": [
    "grader.check(\"q2_3\")"
   ]
  },
  {
   "cell_type": "markdown",
   "metadata": {
    "cell_id": "00030-85bcf6f8-0022-4063-9284-17afa863d953",
    "tags": []
   },
   "source": [
    "Let's plot the demand curve. "
   ]
  },
  {
   "cell_type": "code",
   "execution_count": 82,
   "metadata": {
    "cell_id": "00010-8c640ac2-b2ca-4f76-b58a-32a8f2e47e20",
    "tags": []
   },
   "outputs": [],
   "source": [
    "boston_pre_demand_binned.plot(\"quantity_demanded\", \"price\")\n",
    "plt.xlabel('quantity')\n",
    "plt.ylabel('price');"
   ]
  },
  {
   "cell_type": "markdown",
   "metadata": {},
   "source": [
    "Now it's time to find a linear equation for the demand curve."
   ]
  },
  {
   "cell_type": "markdown",
   "metadata": {
    "deletable": false,
    "editable": false
   },
   "source": [
    "**Question 2.4.1**: Using `np.polyfit`, assign the values `demand_slope` and `demand_intercept` to their respective values.\n",
    "\n",
    "<!--\n",
    "BEGIN QUESTION\n",
    "name: q2_4_1\n",
    "-->"
   ]
  },
  {
   "cell_type": "code",
   "execution_count": 56,
   "metadata": {
    "scrolled": true
   },
   "outputs": [],
   "source": [
    "demand_params = np.polyfit(..., ..., ...)\n",
    "demand_slope = demand_params....\n",
    "demand_intercept = demand_params....\n",
    "\n",
    "print(\"The demand slope is:\", demand_slope)\n",
    "print(\"The demand intercept is:\", demand_intercept)"
   ]
  },
  {
   "cell_type": "code",
   "execution_count": null,
   "metadata": {
    "deletable": false,
    "editable": false
   },
   "outputs": [],
   "source": [
    "grader.check(\"q2_4_1\")"
   ]
  },
  {
   "cell_type": "markdown",
   "metadata": {
    "deletable": false,
    "editable": false
   },
   "source": [
    "<!-- BEGIN QUESTION -->\n",
    "\n",
    "**Question 2.4.2**: Interpret the slope and intercept terms of the demand curve. It may be also helpful to represent quantity as a function of price as well.\n",
    "\n",
    "<!--\n",
    "BEGIN QUESTION\n",
    "name: q2_4_2\n",
    "manual: true\n",
    "-->"
   ]
  },
  {
   "cell_type": "markdown",
   "metadata": {},
   "source": [
    "_Type your answer here, replacing this text._"
   ]
  },
  {
   "cell_type": "markdown",
   "metadata": {
    "deletable": false,
    "editable": false
   },
   "source": [
    "<!-- END QUESTION -->\n",
    "\n",
    "**Question 2.5**: Now let's construct a formula for the demand curve. Using SymPy, create a symbol `Q` and assign `demand` to the demand curve using the slope and intercept values from above.\n",
    "\n",
    "<!--\n",
    "BEGIN QUESTION\n",
    "name: q2_5\n",
    "-->"
   ]
  },
  {
   "cell_type": "code",
   "execution_count": 32,
   "metadata": {
    "cell_id": "00033-9c357b62-6e7c-4c92-ab4c-3f886185b428",
    "tags": []
   },
   "outputs": [],
   "source": [
    "Q = ...\n",
    "demand = ...\n",
    "demand"
   ]
  },
  {
   "cell_type": "code",
   "execution_count": null,
   "metadata": {
    "deletable": false,
    "editable": false
   },
   "outputs": [],
   "source": [
    "grader.check(\"q2_5\")"
   ]
  },
  {
   "cell_type": "markdown",
   "metadata": {
    "deletable": false,
    "editable": false
   },
   "source": [
    "**Question 2.6**: Using the log-log formula, determine the price elasticity for demand and assign it to the variable `demand_elasticity`. \n",
    "\n",
    "<!--\n",
    "BEGIN QUESTION\n",
    "name: q2_6\n",
    "-->"
   ]
  },
  {
   "cell_type": "code",
   "execution_count": 35,
   "metadata": {},
   "outputs": [],
   "source": [
    "# This will take out the first and last row of the table, which are 0's and cannot be log transformed properly\n",
    "boston_demand_log = boston_pre_demand_binned.take(np.arange(1, boston_pre_demand_binned.num_rows - 1))\n",
    "\n",
    "log_price = ...\n",
    "log_quantity = ...\n",
    "\n",
    "demand_elasticity = ...\n",
    "demand_elasticity"
   ]
  },
  {
   "cell_type": "code",
   "execution_count": null,
   "metadata": {
    "deletable": false,
    "editable": false
   },
   "outputs": [],
   "source": [
    "grader.check(\"q2_6\")"
   ]
  },
  {
   "cell_type": "markdown",
   "metadata": {
    "deletable": false,
    "editable": false
   },
   "source": [
    "<!-- BEGIN QUESTION -->\n",
    "\n",
    "**Question 2.7**: Is demand elastic or inelastic? Given that the price elasticity for demand of hotels is relatively inelastic<sup>1</sup>, does this align with our intuition?\n",
    "\n",
    "<!--\n",
    "BEGIN QUESTION\n",
    "name: q2_7\n",
    "manual: true\n",
    "-->"
   ]
  },
  {
   "cell_type": "markdown",
   "metadata": {},
   "source": [
    "_Type your answer here, replacing this text._"
   ]
  },
  {
   "cell_type": "markdown",
   "metadata": {
    "cell_id": "00012-681ba0b6-6e6b-4a98-a76f-dac21dc473aa",
    "tags": []
   },
   "source": [
    "<!-- END QUESTION -->\n",
    "\n",
    "\n",
    "\n",
    "## Constructing the Supply Curve"
   ]
  },
  {
   "cell_type": "markdown",
   "metadata": {},
   "source": [
    "With our demand curve completed, we can now move onto the supply curve. You'll find that this procedure is going to similar to the one you've just completed above. "
   ]
  },
  {
   "cell_type": "markdown",
   "metadata": {
    "cell_id": "00036-17c43b8b-e771-4092-b71f-194e3866877a",
    "deletable": false,
    "editable": false,
    "tags": []
   },
   "source": [
    "<!-- BEGIN QUESTION -->\n",
    "\n",
    "**Question 3.1**: To build the supply curve, we will use the entire `boston_pre` table instead of just the values where `master_key` is equal to 2. Why does the data used to construct the supply and demand curves differ?\n",
    "\n",
    "<!--\n",
    "BEGIN QUESTION\n",
    "name: q3_1\n",
    "manual: true\n",
    "-->"
   ]
  },
  {
   "cell_type": "markdown",
   "metadata": {},
   "source": [
    "_Type your answer here, replacing this text._"
   ]
  },
  {
   "cell_type": "markdown",
   "metadata": {
    "cell_id": "00037-6f2fab63-27a0-4a4d-aa77-e82ee12318ad",
    "deletable": false,
    "editable": false,
    "tags": []
   },
   "source": [
    "<!-- END QUESTION -->\n",
    "\n",
    "**Question 3.2**: With the same bins as demand above, use `tbl.bin` to group the prices in `boston_pre` into 50 equally spaced bins from \\\\$0 to \\\\$1000. Store this in a new table called `boston_pre_supply_binned`, with the column `price` representing the left end for each price bin and the column `quantity` representing the amount of nights supplied at that corresponding price bin.\n",
    "\n",
    "**You should use the same bins as in Question 2.2.**\n",
    "\n",
    "<!--\n",
    "BEGIN QUESTION\n",
    "name: q3_2\n",
    "-->"
   ]
  },
  {
   "cell_type": "code",
   "execution_count": 39,
   "metadata": {},
   "outputs": [],
   "source": [
    "bins = np.arange(..., ..., ...)\n",
    "boston_pre_supply_binned = boston_pre.bin(..., bins=...)\n",
    "boston_pre_supply_binned = boston_pre_supply_binned.relabeled(..., ...)\n",
    "boston_pre_supply_binned = boston_pre_supply_binned.relabeled(..., ...)\n",
    "boston_pre_supply_binned"
   ]
  },
  {
   "cell_type": "code",
   "execution_count": null,
   "metadata": {
    "deletable": false,
    "editable": false
   },
   "outputs": [],
   "source": [
    "grader.check(\"q3_2\")"
   ]
  },
  {
   "cell_type": "markdown",
   "metadata": {
    "cell_id": "00040-86888229-4224-40d2-a4b6-9889f7f0e82a",
    "deletable": false,
    "editable": false,
    "tags": []
   },
   "source": [
    "<!-- BEGIN QUESTION -->\n",
    "\n",
    "**Question 3.3**: Create a scatter plot of price and quantity to visualize the relationship between the number of nights supplied and their prices.\n",
    "\n",
    "<!--\n",
    "BEGIN QUESTION\n",
    "name: q3_3\n",
    "manual: true\n",
    "-->"
   ]
  },
  {
   "cell_type": "code",
   "execution_count": 44,
   "metadata": {
    "cell_id": "00018-d5fb1c98-99d9-4852-8923-a3a50e8ba8c5",
    "tags": []
   },
   "outputs": [],
   "source": [
    "...\n",
    "plt.xlabel('quantity')\n",
    "plt.ylabel('price');"
   ]
  },
  {
   "cell_type": "markdown",
   "metadata": {
    "cell_id": "00042-d8472d78-a16b-45cf-8228-b272969bd854",
    "tags": []
   },
   "source": [
    "<!-- END QUESTION -->\n",
    "\n",
    "\n",
    "\n",
    "This isn't the supply curve, yet. The scatter plot shows the price at which rentals were offered and the quantity of offerings *specifically* at those prices. \n",
    "\n",
    "The total supply at any given price includes all the suppliers willing to offer at the price. \n",
    "For example, the supplier offering at \\\\$60 would gladly take \\\\$80. \n",
    "Thus, that host should be included in the quantity supplied at \\$80.\n"
   ]
  },
  {
   "cell_type": "markdown",
   "metadata": {
    "deletable": false,
    "editable": false
   },
   "source": [
    "**Question 3.4**: Create a new column called `quantity_supplied` to show the actual quantity supplied at a given price and add it to the table `boston_pre_supply_binned`.\n",
    "\n",
    "_Hint:_ You will need to use `np.cumsum` here as in Question 2.3, but do you need `np.flip`...?\n",
    "\n",
    "<!--\n",
    "BEGIN QUESTION\n",
    "name: q3_4\n",
    "-->"
   ]
  },
  {
   "cell_type": "code",
   "execution_count": 45,
   "metadata": {
    "cell_id": "00019-8b1b4ee2-8066-4adc-b874-afe1104249a8",
    "tags": []
   },
   "outputs": [],
   "source": [
    "quantity_supplied = ...\n",
    "boston_pre_supply_binned = ...\n",
    "boston_pre_supply_binned"
   ]
  },
  {
   "cell_type": "code",
   "execution_count": null,
   "metadata": {
    "deletable": false,
    "editable": false
   },
   "outputs": [],
   "source": [
    "grader.check(\"q3_4\")"
   ]
  },
  {
   "cell_type": "markdown",
   "metadata": {
    "cell_id": "00045-f67f6bdd-4263-411c-b6ad-1ed126b3cb92",
    "deletable": false,
    "editable": false,
    "tags": []
   },
   "source": [
    "<!-- BEGIN QUESTION -->\n",
    "\n",
    "**Question 3.5**: Plot the supply curve using a line plot.\n",
    "\n",
    "<!--\n",
    "BEGIN QUESTION\n",
    "name: q3_5\n",
    "manual: true\n",
    "-->"
   ]
  },
  {
   "cell_type": "code",
   "execution_count": 54,
   "metadata": {
    "cell_id": "00020-f7be1ffc-0134-4251-bc4b-60abd1c63bb8",
    "tags": []
   },
   "outputs": [],
   "source": [
    "...\n",
    "plt.xlabel('quantity')\n",
    "plt.ylabel('price');"
   ]
  },
  {
   "cell_type": "markdown",
   "metadata": {
    "cell_id": "00049-3058049c-31c1-40e7-9716-969d73bed054",
    "deletable": false,
    "editable": false,
    "tags": []
   },
   "source": [
    "<!-- END QUESTION -->\n",
    "\n",
    "**Question 3.6**: Using `np.polyfit` assign the values `supply_slope` and `supply_intercept` to their respective values.\n",
    "\n",
    "<!--\n",
    "BEGIN QUESTION\n",
    "name: q3_6\n",
    "-->"
   ]
  },
  {
   "cell_type": "code",
   "execution_count": 59,
   "metadata": {
    "cell_id": "00050-23d1e216-fe28-440e-aa41-1217c1adfb59",
    "tags": []
   },
   "outputs": [],
   "source": [
    "supply_params = np.polyfit(..., ..., ...)\n",
    "supply_slope = supply_params....\n",
    "supply_intercept = supply_params....\n",
    "\n",
    "print(\"The supply slope is:\", supply_slope)\n",
    "print(\"The supply intercept is:\", supply_intercept)"
   ]
  },
  {
   "cell_type": "code",
   "execution_count": null,
   "metadata": {
    "deletable": false,
    "editable": false
   },
   "outputs": [],
   "source": [
    "grader.check(\"q3_6\")"
   ]
  },
  {
   "cell_type": "markdown",
   "metadata": {
    "deletable": false,
    "editable": false
   },
   "source": [
    "**Question 3.7**: Using SymPy, construct a formula for the supply curve and store it to `supply`. Make sure to use the same symbol `Q` as in Question 2.5!\n",
    "\n",
    "<!--\n",
    "BEGIN QUESTION\n",
    "name: q3_7\n",
    "-->"
   ]
  },
  {
   "cell_type": "code",
   "execution_count": 63,
   "metadata": {},
   "outputs": [],
   "source": [
    "supply = ...\n",
    "supply"
   ]
  },
  {
   "cell_type": "code",
   "execution_count": null,
   "metadata": {
    "deletable": false,
    "editable": false
   },
   "outputs": [],
   "source": [
    "grader.check(\"q3_7\")"
   ]
  },
  {
   "cell_type": "markdown",
   "metadata": {
    "deletable": false,
    "editable": false
   },
   "source": [
    "**Question 3.8**: Using the log-log formula, determine the price elasticity for supply and assign it to the variable `supply_elasticity`. \n",
    "\n",
    "<!--\n",
    "BEGIN QUESTION\n",
    "name: q3_8\n",
    "-->"
   ]
  },
  {
   "cell_type": "code",
   "execution_count": 68,
   "metadata": {},
   "outputs": [],
   "source": [
    "# This will take out the rows that feature 0's and cannot be log transformed properly\n",
    "boston_supply_log = boston_pre_supply_binned.take(np.arange(3, boston_pre_demand_binned.num_rows))\n",
    "\n",
    "log_price = ...\n",
    "log_quantity = ...\n",
    "\n",
    "supply_elasticity = ...\n",
    "supply_elasticity"
   ]
  },
  {
   "cell_type": "code",
   "execution_count": null,
   "metadata": {
    "deletable": false,
    "editable": false
   },
   "outputs": [],
   "source": [
    "grader.check(\"q3_8\")"
   ]
  },
  {
   "cell_type": "markdown",
   "metadata": {
    "deletable": false,
    "editable": false
   },
   "source": [
    "<!-- BEGIN QUESTION -->\n",
    "\n",
    "**Question 3.9**: Is supply elastic or inelastic? How does it compare to the price elasticity of demand?\n",
    "\n",
    "<!--\n",
    "BEGIN QUESTION\n",
    "name: q3_9\n",
    "manual: true\n",
    "-->"
   ]
  },
  {
   "cell_type": "markdown",
   "metadata": {},
   "source": [
    "_Type your answer here, replacing this text._"
   ]
  },
  {
   "cell_type": "markdown",
   "metadata": {},
   "source": [
    "<!-- END QUESTION -->\n",
    "\n",
    "\n",
    "\n",
    "## Solving for Equilibria"
   ]
  },
  {
   "cell_type": "markdown",
   "metadata": {
    "cell_id": "00052-0aaa1db2-1b56-4433-9d48-d1c61e772e7d",
    "tags": []
   },
   "source": [
    "Now that we have both the demand and supply curves, we are able to determine the equilibrium. The equilibrium point denotes the total amount of units that would be transacted in the market and its associated price level. "
   ]
  },
  {
   "cell_type": "markdown",
   "metadata": {
    "deletable": false,
    "editable": false
   },
   "source": [
    "**Question 4.1**: Use the `solve` function provided to find the quantity equilibrium value and assign it to `Q_star`.\n",
    "\n",
    "<!--\n",
    "BEGIN QUESTION\n",
    "name: q4_1\n",
    "-->"
   ]
  },
  {
   "cell_type": "code",
   "execution_count": 72,
   "metadata": {
    "cell_id": "00053-ac13593c-6d2c-4a0e-8b33-d1ec4e843511",
    "tags": []
   },
   "outputs": [],
   "source": [
    "Q_star = ...\n",
    "Q_star"
   ]
  },
  {
   "cell_type": "code",
   "execution_count": null,
   "metadata": {
    "deletable": false,
    "editable": false
   },
   "outputs": [],
   "source": [
    "grader.check(\"q4_1\")"
   ]
  },
  {
   "cell_type": "markdown",
   "metadata": {
    "cell_id": "00055-533814b6-5760-4cb8-8826-4d6d1aa579a9",
    "deletable": false,
    "editable": false,
    "tags": []
   },
   "source": [
    "**Question 4.2**: Determine the price equilibrium value and assign it to `P_star`. \n",
    "\n",
    "<!--\n",
    "BEGIN QUESTION\n",
    "name: q4_2\n",
    "-->"
   ]
  },
  {
   "cell_type": "code",
   "execution_count": 76,
   "metadata": {
    "cell_id": "00056-1a25877e-9c3b-4a87-9720-50aa8ac235ca",
    "tags": []
   },
   "outputs": [],
   "source": [
    "P_star = ...\n",
    "P_star"
   ]
  },
  {
   "cell_type": "code",
   "execution_count": null,
   "metadata": {
    "deletable": false,
    "editable": false
   },
   "outputs": [],
   "source": [
    "grader.check(\"q4_2\")"
   ]
  },
  {
   "cell_type": "markdown",
   "metadata": {
    "cell_id": "00047-0cb070fe-dd1e-45ba-800a-0e59c8213574",
    "tags": []
   },
   "source": [
    "Let's look that both the curves in the same plot."
   ]
  },
  {
   "cell_type": "code",
   "execution_count": 84,
   "metadata": {
    "cell_id": "00022-c3213d54-ca09-412f-a833-215280624ad4",
    "tags": []
   },
   "outputs": [],
   "source": [
    "plt.figure(dpi=100)\n",
    "plt.plot(\n",
    "    boston_pre_demand_binned.column(\"quantity_demanded\"), \n",
    "    boston_pre_demand_binned.column(\"price\"), color = 'red', \n",
    "    label = 'demand curve')\n",
    "plt.plot(\n",
    "    boston_pre_supply_binned.column(\"quantity_supplied\"), \n",
    "    boston_pre_supply_binned.column(\"price\"), \n",
    "    label = 'supply curve')\n",
    "plt.xlabel('quantity')\n",
    "plt.ylabel('price')\n",
    "plt.legend();"
   ]
  },
  {
   "cell_type": "markdown",
   "metadata": {
    "cell_id": "00049-9538570b-500b-4280-9ccf-bfa20024345a",
    "tags": []
   },
   "source": [
    "Why do these curves look different than the normal linear supply and demand curves in the textbook? It's because in the textbook we've made a vastly simplifying assumptions that supply and demand curves are linear in nature. This would imply that, no matter at what price, a price decrease by \\\\$1 would change the amount supplied or demanded by the same amount. \n",
    "\n",
    "Is this intuitively true? Probably not. For example, a \\\\$1 decrease from \\\\$100 is trivial compared to a \\\\$1 decrease from an original price of \\\\$2. As humans, we think about changes as proportions, and this fact should be reflected in the supply and demand curves. What this implies is that these curves should be exponential in nature: at higher prices, a larger change in price will yield the same change quantity as compared to that in lower prices. \n",
    "\n",
    "Your curves above should look somewhat exponential, which aligns with this intuition!"
   ]
  },
  {
   "cell_type": "markdown",
   "metadata": {
    "deletable": false,
    "editable": false
   },
   "source": [
    "<!-- BEGIN QUESTION -->\n",
    "\n",
    "**Question 4.3**: What does the market plotted above represent? Describe the goods being transacted.\n",
    "\n",
    "<!--\n",
    "BEGIN QUESTION\n",
    "name: q4_3\n",
    "manual: true\n",
    "-->"
   ]
  },
  {
   "cell_type": "markdown",
   "metadata": {},
   "source": [
    "_Type your answer here, replacing this text._"
   ]
  },
  {
   "cell_type": "markdown",
   "metadata": {},
   "source": [
    "<!-- END QUESTION -->\n",
    "\n",
    "\n",
    "\n",
    "## Introducing a Tax"
   ]
  },
  {
   "cell_type": "markdown",
   "metadata": {},
   "source": [
    "As a popular alternative to hotels, Airbnb has become subject to occupancy taxes in cities around the world. These taxes are applied to short term lodgings and are typically enforced by local or state governments in the United States. Proponents of the tax argue that existing rules that apply to hotels should also be enforced for Airbnb. Opponents instead argue that these laws do not apply to services created out of excess capacity, and the tax would stifle innovation and growth in the industry<sup>2</sup>.\n",
    "\n",
    "In the week following Christmas in 2018, Massachussetts governor Charlie Baker signed into law *An Act Regulating and Insuring Short-Term Rentals*, which formalized existing short-term rental activity, mandating hosts to register with the state and to provide insurance for their listings. The law further extended the state’s existing room occupancy excise tax to short term rental bookings, imposing a 5.7% statewide excise on all reservations beginning July 1st 2019, in addition to a local option excise ranging from 0 to 6.5% and a convention center finance fee of 2.75\\% that only applied in select Massachusetts cities to finance the construction of convention centers statewide.\n",
    "\n",
    "In Boston, the total occupancy tax amount for Airbnb listings set forth by the act was 14.95%. This included a 5.7% statewide excise tax, a 6.5% local option excise, and a 2.75\\% convention center finance fee.  Immediately after the introduction of the tax, Airbnb worked with the state and local governments to help remit the tax on behalf of hosts. Figure 1 details the cost breakdown guests see when booking a listing on Airbnb's website, including the tax. Before the COVID-19 pandemic, Airbnb was expected to collect \\$27.5 million in fiscal year 2020 due to the tax on behalf of the state<sup>3</sup>. \n",
    "\n",
    "The image below of an Airbnb in Boston shows guests a cost breakdown of their stay right before booking a listing, including the different taxes that comprise the \"occupancy taxes and fees\" section. The total tax of \\\\$44 is roughly 14.95% of the cost (including service and cleaning fees), and is paid by the guest on booking. \n",
    "\n",
    "<img src=\"airbnb_booking.png\" alt=\"drawing\" width=\"600\"/>\n"
   ]
  },
  {
   "cell_type": "markdown",
   "metadata": {
    "deletable": false,
    "editable": false
   },
   "source": [
    "**Question 5.1**: Which party bears the statutory incidence of the tax?\n",
    "\n",
    "<ol style=\"list-style-type: lower-alpha;\">\n",
    "    <li>the hosts (producers)</li>\n",
    "    <li>the guests (consumers)</li>\n",
    "    <li>Airbnb (platform)</li>\n",
    "</ol>\n",
    "\n",
    "Assign `statutory_incidence` to the letter corresponding to your answer.\n",
    "\n",
    "<!--\n",
    "BEGIN QUESTION\n",
    "name: q5_1\n",
    "-->"
   ]
  },
  {
   "cell_type": "code",
   "execution_count": 93,
   "metadata": {},
   "outputs": [],
   "source": [
    "statutory_incidence = ..."
   ]
  },
  {
   "cell_type": "code",
   "execution_count": null,
   "metadata": {
    "deletable": false,
    "editable": false
   },
   "outputs": [],
   "source": [
    "grader.check(\"q5_1\")"
   ]
  },
  {
   "cell_type": "markdown",
   "metadata": {
    "deletable": false,
    "editable": false
   },
   "source": [
    "**Question 5.2**: Based on the price elasticities of supply and demand we have calculated above, would we expect the economic incidence of the tax to be:\n",
    "\n",
    "<ol style=\"list-style-type: lower-alpha;\">\n",
    "    <li>Largely borne by producers</li>\n",
    "    <li>Largely borne by consumers</li>\n",
    "    <li>Roughly equally borne by producers and consumers</li>\n",
    "</ol>\n",
    "\n",
    "Assign `economic_incidence` to the letter corresponding to your answer.\n",
    "\n",
    "<!--\n",
    "BEGIN QUESTION\n",
    "name: q5_2\n",
    "-->"
   ]
  },
  {
   "cell_type": "code",
   "execution_count": 96,
   "metadata": {},
   "outputs": [],
   "source": [
    "economic_incidence = ..."
   ]
  },
  {
   "cell_type": "code",
   "execution_count": null,
   "metadata": {
    "deletable": false,
    "editable": false
   },
   "outputs": [],
   "source": [
    "grader.check(\"q5_2\")"
   ]
  },
  {
   "cell_type": "markdown",
   "metadata": {
    "deletable": false,
    "editable": false
   },
   "source": [
    "**Question 5.3**: Now let's begin to calculate the demand curve post-tax. This procedure will be largely the same as the one in section 2, so we've condensed it into one question here. Assign `boston_post_demand_binned` to a table with 3 columns: \n",
    "\n",
    "- `price`: the left end of each price bin\n",
    "- `quantity`: the quantity transacted at that corresponding price bin\n",
    "- `quantity_demanded`: the total quantity demanded by the market at that hypothetical price level. \n",
    "\n",
    "Recall that the tax was instituted on July 1, 2019, so you'll want to create an intermediate table called `boston_post` from `boston` that contains only listings from when the tax was enacted.\n",
    "\n",
    "*Hint*: If you get stuck, read the comments and feel free to refer to the step-by-step procedure in section 2!\n",
    "\n",
    "<!--\n",
    "BEGIN QUESTION\n",
    "name: q5_3\n",
    "-->"
   ]
  },
  {
   "cell_type": "code",
   "execution_count": 99,
   "metadata": {},
   "outputs": [],
   "source": [
    "# create the table of post-tax listings boston_post\n",
    "boston_post = ...\n",
    "\n",
    "# filter boston_post (Hint: see Question 2.1)\n",
    "boston_post_demand = ...\n",
    "\n",
    "# bin boston_post_demand (Hint: can we reuse the bins from earlier)\n",
    "boston_post_demand_binned = ...\n",
    "\n",
    "# fix the column names\n",
    "boston_post_demand_binned = ...\n",
    "boston_post_demand_binned = ...\n",
    "\n",
    "# add quantity_demanded to boston_post_demand_binned\n",
    "quantity_demanded = ...\n",
    "boston_post_demand_binned = ...\n",
    "\n",
    "boston_post_demand_binned"
   ]
  },
  {
   "cell_type": "code",
   "execution_count": null,
   "metadata": {
    "deletable": false,
    "editable": false
   },
   "outputs": [],
   "source": [
    "grader.check(\"q5_3\")"
   ]
  },
  {
   "cell_type": "markdown",
   "metadata": {},
   "source": [
    "Let's plot both demand curves, pre and post tax, with the pre-tax supply curve. For this project, to simplify our assumptions we'll assume that the supply curve does not change due to the tax. "
   ]
  },
  {
   "cell_type": "code",
   "execution_count": 107,
   "metadata": {},
   "outputs": [],
   "source": [
    "plt.plot(\n",
    "    boston_pre_demand_binned.column(\"quantity_demanded\"), \n",
    "    boston_pre_demand_binned.column(\"price\"), \n",
    "    label = \"pre-tax demand\")\n",
    "plt.plot(\n",
    "    boston_post_demand_binned.column(\"quantity_demanded\"), \n",
    "    boston_post_demand_binned.column(\"price\"), \n",
    "    label = \"post-tax demand\")\n",
    "plt.plot(\n",
    "    boston_pre_supply_binned.column(\"quantity_supplied\"), \n",
    "    boston_post_demand_binned.column(\"price\"), \n",
    "    label = \"supply\")\n",
    "plt.xlabel('quantity')\n",
    "plt.ylabel('price')\n",
    "plt.legend();"
   ]
  },
  {
   "cell_type": "markdown",
   "metadata": {},
   "source": [
    "Let's try to interpolate linear supply and demand curves from the plot above. "
   ]
  },
  {
   "cell_type": "markdown",
   "metadata": {
    "deletable": false,
    "editable": false
   },
   "source": [
    "**Question 5.4**:  Using `np.polyfit`, assign the values `demand_slope_post` and `demand_intercept_post` to their respective values.\n",
    "\n",
    "<!--\n",
    "BEGIN QUESTION\n",
    "name: q5_4\n",
    "-->"
   ]
  },
  {
   "cell_type": "code",
   "execution_count": 109,
   "metadata": {},
   "outputs": [],
   "source": [
    "demand_post_params = np.polyfit(..., ..., ...)\n",
    "demand_slope_post = demand_post_params....\n",
    "demand_intercept_post = demand_post_params....\n",
    "\n",
    "print(\"The demand slope post-tax is:\", demand_slope_post)\n",
    "print(\"The demand intercept post-tax is:\", demand_intercept_post)"
   ]
  },
  {
   "cell_type": "code",
   "execution_count": null,
   "metadata": {
    "deletable": false,
    "editable": false
   },
   "outputs": [],
   "source": [
    "grader.check(\"q5_4\")"
   ]
  },
  {
   "cell_type": "markdown",
   "metadata": {
    "deletable": false,
    "editable": false
   },
   "source": [
    "**Question 5.5**: Assign `demand_tax` to a SymPy formula that represents the demand curve. Make sure to reuse the `Q` we defined earlier!\n",
    "\n",
    "<!--\n",
    "BEGIN QUESTION\n",
    "name: q5_5\n",
    "-->"
   ]
  },
  {
   "cell_type": "code",
   "execution_count": 118,
   "metadata": {},
   "outputs": [],
   "source": [
    "demand_tax = ...\n",
    "demand_tax"
   ]
  },
  {
   "cell_type": "code",
   "execution_count": null,
   "metadata": {
    "deletable": false,
    "editable": false
   },
   "outputs": [],
   "source": [
    "grader.check(\"q5_5\")"
   ]
  },
  {
   "cell_type": "markdown",
   "metadata": {
    "deletable": false,
    "editable": false
   },
   "source": [
    "**Question 5.6.1**: Solve for the equilibrium quantity post tax, assuming that the supply curve stays constant, and assign `Q_star_tax` to the equilibrium quantity post tax. \n",
    "\n",
    "<!--\n",
    "BEGIN QUESTION\n",
    "name: q5_6_1\n",
    "-->"
   ]
  },
  {
   "cell_type": "code",
   "execution_count": 124,
   "metadata": {},
   "outputs": [],
   "source": [
    "Q_star_tax = ...\n",
    "Q_star_tax"
   ]
  },
  {
   "cell_type": "code",
   "execution_count": null,
   "metadata": {
    "deletable": false,
    "editable": false
   },
   "outputs": [],
   "source": [
    "grader.check(\"q5_6_1\")"
   ]
  },
  {
   "cell_type": "markdown",
   "metadata": {
    "deletable": false,
    "editable": false
   },
   "source": [
    "<!-- BEGIN QUESTION -->\n",
    "\n",
    "**Question 5.6.2**: What is the difference in transacted quantity due to the tax? Is this significant?\n",
    "\n",
    "<!--\n",
    "BEGIN QUESTION\n",
    "name: q5_6_2\n",
    "manual: true\n",
    "-->"
   ]
  },
  {
   "cell_type": "markdown",
   "metadata": {},
   "source": [
    "_Type your answer here, replacing this text._"
   ]
  },
  {
   "cell_type": "markdown",
   "metadata": {
    "deletable": false,
    "editable": false
   },
   "source": [
    "<!-- END QUESTION -->\n",
    "\n",
    "**Question 5.7.1**: Assign `P_star_tax` to the equilibrium price post tax received by producers.\n",
    "\n",
    "<!--\n",
    "BEGIN QUESTION\n",
    "name: q5_7_1\n",
    "-->"
   ]
  },
  {
   "cell_type": "code",
   "execution_count": 132,
   "metadata": {},
   "outputs": [],
   "source": [
    "P_star_tax = ...\n",
    "P_star_tax"
   ]
  },
  {
   "cell_type": "code",
   "execution_count": null,
   "metadata": {
    "deletable": false,
    "editable": false
   },
   "outputs": [],
   "source": [
    "grader.check(\"q5_7_1\")"
   ]
  },
  {
   "cell_type": "markdown",
   "metadata": {
    "deletable": false,
    "editable": false
   },
   "source": [
    "<!-- BEGIN QUESTION -->\n",
    "\n",
    "**Question 5.7.2**: Is the change in price greater or less than what we would expect? Why?\n",
    "\n",
    "<!--\n",
    "BEGIN QUESTION\n",
    "name: q5_7_2\n",
    "manual: true\n",
    "-->"
   ]
  },
  {
   "cell_type": "markdown",
   "metadata": {},
   "source": [
    "_Type your answer here, replacing this text._"
   ]
  },
  {
   "cell_type": "markdown",
   "metadata": {
    "deletable": false,
    "editable": false
   },
   "source": [
    "<!-- END QUESTION -->\n",
    "\n",
    "<!-- BEGIN QUESTION -->\n",
    "\n",
    "**Question 5.8**: From your analysis, is it effective for the government to tax short-term rentals? Provide brief justification with your answer.\n",
    "\n",
    "*Hint*: there is no correct answer or approach here. One approach could be to look at the results above and to estimate the economic impact of such a tax. Another approach could be to compare the tax against the traditional occupancy taxes of hotels.\n",
    "\n",
    "<!--\n",
    "BEGIN QUESTION\n",
    "name: q5_8\n",
    "manual: true\n",
    "-->"
   ]
  },
  {
   "cell_type": "markdown",
   "metadata": {},
   "source": [
    "_Type your answer here, replacing this text._"
   ]
  },
  {
   "cell_type": "markdown",
   "metadata": {
    "deletable": false,
    "editable": false
   },
   "source": [
    "<!-- END QUESTION -->\n",
    "\n",
    "<!-- BEGIN QUESTION -->\n",
    "\n",
    "**Question 5.9**: Describe 3 potential sources of error in our overall analysis. Please be concise, each source of error should not be more than one or two sentences in length.\n",
    "\n",
    "<!--\n",
    "BEGIN QUESTION\n",
    "name: q5_9\n",
    "manual: true\n",
    "-->"
   ]
  },
  {
   "cell_type": "markdown",
   "metadata": {},
   "source": [
    "_Type your answer here, replacing this text._"
   ]
  },
  {
   "cell_type": "markdown",
   "metadata": {
    "cell_id": "00048-ef7bf07f-b3bf-4345-a81c-5db2391c2ac9",
    "tags": []
   },
   "source": [
    "<!-- END QUESTION -->\n",
    "\n",
    "\n",
    "\n",
    "**Congratulations! You finished Project 1!**\n",
    "\n",
    "---\n",
    "\n",
    "### References\n",
    "\n",
    "<sup>1</sup> https://www.sciencedirect.com/science/article/abs/pii/0010880492900309\n",
    "\n",
    "<sup>2</sup> Wilking, 2016 *HOTEL TAX INCIDENCE WITH HETEROGENEOUS FIRM EVASION : EVIDENCE FROM AIRBNB REMITTANCE AGREEMENTS*\n",
    "\n",
    "<sup>3</sup> https://www.patriotledger.com/news/20191204/new-rental-tax-expected-to-generate-275-million-in-revenue"
   ]
  },
  {
   "cell_type": "markdown",
   "metadata": {
    "deletable": false,
    "editable": false
   },
   "source": [
    "---\n",
    "\n",
    "To double-check your work, the cell below will rerun all of the autograder tests."
   ]
  },
  {
   "cell_type": "code",
   "execution_count": null,
   "metadata": {
    "deletable": false,
    "editable": false
   },
   "outputs": [],
   "source": [
    "grader.check_all()"
   ]
  },
  {
   "cell_type": "markdown",
   "metadata": {
    "deletable": false,
    "editable": false
   },
   "source": [
    "## Submission\n",
    "\n",
    "Make sure you have run all cells in your notebook in order before running the cell below, so that all images/graphs appear in the output. The cell below will generate a zip file for you to submit. **Please save before exporting!**"
   ]
  },
  {
   "cell_type": "code",
   "execution_count": null,
   "metadata": {
    "deletable": false,
    "editable": false
   },
   "outputs": [],
   "source": [
    "# Save your notebook first, then run this cell to export your submission.\n",
    "grader.export(\"proj01.ipynb\", pdf=False)"
   ]
  },
  {
   "cell_type": "markdown",
   "metadata": {},
   "source": [
    " "
   ]
  }
 ],
 "metadata": {
  "deepnote_execution_queue": [],
  "deepnote_notebook_id": "95551afa-1c6a-4ed2-b51c-6edc5d56ff55",
  "kernelspec": {
   "display_name": "Python 3",
   "language": "python",
   "name": "python3"
  },
  "language_info": {
   "codemirror_mode": {
    "name": "ipython",
    "version": 3
   },
   "file_extension": ".py",
   "mimetype": "text/x-python",
   "name": "python",
   "nbconvert_exporter": "python",
   "pygments_lexer": "ipython3",
   "version": "3.7.3"
  }
 },
 "nbformat": 4,
 "nbformat_minor": 2
}
